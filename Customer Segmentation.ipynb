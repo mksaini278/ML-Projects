{
  "nbformat": 4,
  "nbformat_minor": 0,
  "metadata": {
    "kernelspec": {
      "display_name": "Python 3",
      "language": "python",
      "name": "python3"
    },
    "language_info": {
      "codemirror_mode": {
        "name": "ipython",
        "version": 3
      },
      "file_extension": ".py",
      "mimetype": "text/x-python",
      "name": "python",
      "nbconvert_exporter": "python",
      "pygments_lexer": "ipython3",
      "version": "3.7.4"
    },
    "colab": {
      "name": "Cluster_segmentation.ipynb",
      "provenance": []
    }
  },
  "cells": [
    {
      "cell_type": "code",
      "metadata": {
        "id": "DWYrkHdqrl2z",
        "colab_type": "code",
        "colab": {}
      },
      "source": [
        "import pandas as pd \n",
        "import numpy as np\n",
        "import matplotlib.pyplot as plt\n",
        "import seaborn as sns\n",
        "import warnings\n",
        "warnings.filterwarnings('ignore')\n",
        "\n",
        "%matplotlib inline"
      ],
      "execution_count": null,
      "outputs": []
    },
    {
      "cell_type": "code",
      "metadata": {
        "id": "EZQMZSd4rl24",
        "colab_type": "code",
        "colab": {}
      },
      "source": [
        "df = pd.read_csv(\"E:\\\\Praxis\\\\College_ppt\\\\Market Research(PD)\\\\RFM Analysis\\\\purchases.txt\", sep='\\s+', header=None)"
      ],
      "execution_count": null,
      "outputs": []
    },
    {
      "cell_type": "code",
      "metadata": {
        "id": "T-g7qaa7rl28",
        "colab_type": "code",
        "colab": {},
        "outputId": "96530f73-0502-4dea-d0ac-303e1ccf9674"
      },
      "source": [
        "df.head()"
      ],
      "execution_count": null,
      "outputs": [
        {
          "output_type": "execute_result",
          "data": {
            "text/html": [
              "<div>\n",
              "<style scoped>\n",
              "    .dataframe tbody tr th:only-of-type {\n",
              "        vertical-align: middle;\n",
              "    }\n",
              "\n",
              "    .dataframe tbody tr th {\n",
              "        vertical-align: top;\n",
              "    }\n",
              "\n",
              "    .dataframe thead th {\n",
              "        text-align: right;\n",
              "    }\n",
              "</style>\n",
              "<table border=\"1\" class=\"dataframe\">\n",
              "  <thead>\n",
              "    <tr style=\"text-align: right;\">\n",
              "      <th></th>\n",
              "      <th>0</th>\n",
              "      <th>1</th>\n",
              "      <th>2</th>\n",
              "    </tr>\n",
              "  </thead>\n",
              "  <tbody>\n",
              "    <tr>\n",
              "      <td>0</td>\n",
              "      <td>760</td>\n",
              "      <td>25.0</td>\n",
              "      <td>2009-11-06</td>\n",
              "    </tr>\n",
              "    <tr>\n",
              "      <td>1</td>\n",
              "      <td>860</td>\n",
              "      <td>50.0</td>\n",
              "      <td>2012-09-28</td>\n",
              "    </tr>\n",
              "    <tr>\n",
              "      <td>2</td>\n",
              "      <td>1200</td>\n",
              "      <td>100.0</td>\n",
              "      <td>2005-10-25</td>\n",
              "    </tr>\n",
              "    <tr>\n",
              "      <td>3</td>\n",
              "      <td>1420</td>\n",
              "      <td>50.0</td>\n",
              "      <td>2009-07-09</td>\n",
              "    </tr>\n",
              "    <tr>\n",
              "      <td>4</td>\n",
              "      <td>1940</td>\n",
              "      <td>70.0</td>\n",
              "      <td>2013-01-25</td>\n",
              "    </tr>\n",
              "  </tbody>\n",
              "</table>\n",
              "</div>"
            ],
            "text/plain": [
              "      0      1           2\n",
              "0   760   25.0  2009-11-06\n",
              "1   860   50.0  2012-09-28\n",
              "2  1200  100.0  2005-10-25\n",
              "3  1420   50.0  2009-07-09\n",
              "4  1940   70.0  2013-01-25"
            ]
          },
          "metadata": {
            "tags": []
          },
          "execution_count": 452
        }
      ]
    },
    {
      "cell_type": "code",
      "metadata": {
        "id": "3mFO7HSPrl3B",
        "colab_type": "code",
        "colab": {},
        "outputId": "2536c072-990b-4ce9-dd1b-60f2418a7c05"
      },
      "source": [
        "df.rename({0:'Customer-ID',1:'Amount',2:'Date'},axis=1,inplace=True)"
      ],
      "execution_count": null,
      "outputs": [
        {
          "output_type": "error",
          "ename": "NameError",
          "evalue": "name 'df' is not defined",
          "traceback": [
            "\u001b[1;31m---------------------------------------------------------------------------\u001b[0m",
            "\u001b[1;31mNameError\u001b[0m                                 Traceback (most recent call last)",
            "\u001b[1;32m<ipython-input-1-937e7dd98c64>\u001b[0m in \u001b[0;36m<module>\u001b[1;34m\u001b[0m\n\u001b[1;32m----> 1\u001b[1;33m \u001b[0mdf\u001b[0m\u001b[1;33m.\u001b[0m\u001b[0mrename\u001b[0m\u001b[1;33m(\u001b[0m\u001b[1;33m{\u001b[0m\u001b[1;36m0\u001b[0m\u001b[1;33m:\u001b[0m\u001b[1;34m'Customer-ID'\u001b[0m\u001b[1;33m,\u001b[0m\u001b[1;36m1\u001b[0m\u001b[1;33m:\u001b[0m\u001b[1;34m'Amount'\u001b[0m\u001b[1;33m,\u001b[0m\u001b[1;36m2\u001b[0m\u001b[1;33m:\u001b[0m\u001b[1;34m'Date'\u001b[0m\u001b[1;33m}\u001b[0m\u001b[1;33m,\u001b[0m\u001b[0maxis\u001b[0m\u001b[1;33m=\u001b[0m\u001b[1;36m1\u001b[0m\u001b[1;33m,\u001b[0m\u001b[0minplace\u001b[0m\u001b[1;33m=\u001b[0m\u001b[1;32mTrue\u001b[0m\u001b[1;33m)\u001b[0m\u001b[1;33m\u001b[0m\u001b[1;33m\u001b[0m\u001b[0m\n\u001b[0m",
            "\u001b[1;31mNameError\u001b[0m: name 'df' is not defined"
          ]
        }
      ]
    },
    {
      "cell_type": "code",
      "metadata": {
        "id": "j-qfpP43rl3F",
        "colab_type": "code",
        "colab": {},
        "outputId": "01af4e31-7fa8-4ebd-e8d6-0e5584d1f37e"
      },
      "source": [
        "df.head()"
      ],
      "execution_count": null,
      "outputs": [
        {
          "output_type": "execute_result",
          "data": {
            "text/html": [
              "<div>\n",
              "<style scoped>\n",
              "    .dataframe tbody tr th:only-of-type {\n",
              "        vertical-align: middle;\n",
              "    }\n",
              "\n",
              "    .dataframe tbody tr th {\n",
              "        vertical-align: top;\n",
              "    }\n",
              "\n",
              "    .dataframe thead th {\n",
              "        text-align: right;\n",
              "    }\n",
              "</style>\n",
              "<table border=\"1\" class=\"dataframe\">\n",
              "  <thead>\n",
              "    <tr style=\"text-align: right;\">\n",
              "      <th></th>\n",
              "      <th>Customer-ID</th>\n",
              "      <th>Amount</th>\n",
              "      <th>Date</th>\n",
              "    </tr>\n",
              "  </thead>\n",
              "  <tbody>\n",
              "    <tr>\n",
              "      <td>0</td>\n",
              "      <td>760</td>\n",
              "      <td>25.0</td>\n",
              "      <td>2009-11-06</td>\n",
              "    </tr>\n",
              "    <tr>\n",
              "      <td>1</td>\n",
              "      <td>860</td>\n",
              "      <td>50.0</td>\n",
              "      <td>2012-09-28</td>\n",
              "    </tr>\n",
              "    <tr>\n",
              "      <td>2</td>\n",
              "      <td>1200</td>\n",
              "      <td>100.0</td>\n",
              "      <td>2005-10-25</td>\n",
              "    </tr>\n",
              "    <tr>\n",
              "      <td>3</td>\n",
              "      <td>1420</td>\n",
              "      <td>50.0</td>\n",
              "      <td>2009-07-09</td>\n",
              "    </tr>\n",
              "    <tr>\n",
              "      <td>4</td>\n",
              "      <td>1940</td>\n",
              "      <td>70.0</td>\n",
              "      <td>2013-01-25</td>\n",
              "    </tr>\n",
              "  </tbody>\n",
              "</table>\n",
              "</div>"
            ],
            "text/plain": [
              "   Customer-ID  Amount        Date\n",
              "0          760    25.0  2009-11-06\n",
              "1          860    50.0  2012-09-28\n",
              "2         1200   100.0  2005-10-25\n",
              "3         1420    50.0  2009-07-09\n",
              "4         1940    70.0  2013-01-25"
            ]
          },
          "metadata": {
            "tags": []
          },
          "execution_count": 454
        }
      ]
    },
    {
      "cell_type": "code",
      "metadata": {
        "id": "iSPGnkJbrl3J",
        "colab_type": "code",
        "colab": {},
        "outputId": "90a9b7d0-bc82-403b-9fca-7ea4fe237945"
      },
      "source": [
        "df.describe()"
      ],
      "execution_count": null,
      "outputs": [
        {
          "output_type": "execute_result",
          "data": {
            "text/html": [
              "<div>\n",
              "<style scoped>\n",
              "    .dataframe tbody tr th:only-of-type {\n",
              "        vertical-align: middle;\n",
              "    }\n",
              "\n",
              "    .dataframe tbody tr th {\n",
              "        vertical-align: top;\n",
              "    }\n",
              "\n",
              "    .dataframe thead th {\n",
              "        text-align: right;\n",
              "    }\n",
              "</style>\n",
              "<table border=\"1\" class=\"dataframe\">\n",
              "  <thead>\n",
              "    <tr style=\"text-align: right;\">\n",
              "      <th></th>\n",
              "      <th>Customer-ID</th>\n",
              "      <th>Amount</th>\n",
              "    </tr>\n",
              "  </thead>\n",
              "  <tbody>\n",
              "    <tr>\n",
              "      <td>count</td>\n",
              "      <td>51243.000000</td>\n",
              "      <td>51243.000000</td>\n",
              "    </tr>\n",
              "    <tr>\n",
              "      <td>mean</td>\n",
              "      <td>108934.547938</td>\n",
              "      <td>62.337195</td>\n",
              "    </tr>\n",
              "    <tr>\n",
              "      <td>std</td>\n",
              "      <td>67650.610139</td>\n",
              "      <td>156.606801</td>\n",
              "    </tr>\n",
              "    <tr>\n",
              "      <td>min</td>\n",
              "      <td>10.000000</td>\n",
              "      <td>5.000000</td>\n",
              "    </tr>\n",
              "    <tr>\n",
              "      <td>25%</td>\n",
              "      <td>57720.000000</td>\n",
              "      <td>25.000000</td>\n",
              "    </tr>\n",
              "    <tr>\n",
              "      <td>50%</td>\n",
              "      <td>102440.000000</td>\n",
              "      <td>30.000000</td>\n",
              "    </tr>\n",
              "    <tr>\n",
              "      <td>75%</td>\n",
              "      <td>160525.000000</td>\n",
              "      <td>60.000000</td>\n",
              "    </tr>\n",
              "    <tr>\n",
              "      <td>max</td>\n",
              "      <td>264200.000000</td>\n",
              "      <td>4500.000000</td>\n",
              "    </tr>\n",
              "  </tbody>\n",
              "</table>\n",
              "</div>"
            ],
            "text/plain": [
              "         Customer-ID        Amount\n",
              "count   51243.000000  51243.000000\n",
              "mean   108934.547938     62.337195\n",
              "std     67650.610139    156.606801\n",
              "min        10.000000      5.000000\n",
              "25%     57720.000000     25.000000\n",
              "50%    102440.000000     30.000000\n",
              "75%    160525.000000     60.000000\n",
              "max    264200.000000   4500.000000"
            ]
          },
          "metadata": {
            "tags": []
          },
          "execution_count": 455
        }
      ]
    },
    {
      "cell_type": "code",
      "metadata": {
        "id": "k4naBI0mrl3O",
        "colab_type": "code",
        "colab": {}
      },
      "source": [
        "df['Date']=pd.to_datetime(df['Date'])"
      ],
      "execution_count": null,
      "outputs": []
    },
    {
      "cell_type": "code",
      "metadata": {
        "id": "G71VBuAvrl3S",
        "colab_type": "code",
        "colab": {},
        "outputId": "50ae91d6-b30b-4073-f354-1c909c343697"
      },
      "source": [
        "df.info()"
      ],
      "execution_count": null,
      "outputs": [
        {
          "output_type": "stream",
          "text": [
            "<class 'pandas.core.frame.DataFrame'>\n",
            "RangeIndex: 51243 entries, 0 to 51242\n",
            "Data columns (total 3 columns):\n",
            "Customer-ID    51243 non-null int64\n",
            "Amount         51243 non-null float64\n",
            "Date           51243 non-null datetime64[ns]\n",
            "dtypes: datetime64[ns](1), float64(1), int64(1)\n",
            "memory usage: 1.2 MB\n"
          ],
          "name": "stdout"
        }
      ]
    },
    {
      "cell_type": "code",
      "metadata": {
        "id": "sSB3oMWXrl3X",
        "colab_type": "code",
        "colab": {},
        "outputId": "dade90a2-233e-4939-b8d3-62187b334519"
      },
      "source": [
        "df.head()"
      ],
      "execution_count": null,
      "outputs": [
        {
          "output_type": "execute_result",
          "data": {
            "text/html": [
              "<div>\n",
              "<style scoped>\n",
              "    .dataframe tbody tr th:only-of-type {\n",
              "        vertical-align: middle;\n",
              "    }\n",
              "\n",
              "    .dataframe tbody tr th {\n",
              "        vertical-align: top;\n",
              "    }\n",
              "\n",
              "    .dataframe thead th {\n",
              "        text-align: right;\n",
              "    }\n",
              "</style>\n",
              "<table border=\"1\" class=\"dataframe\">\n",
              "  <thead>\n",
              "    <tr style=\"text-align: right;\">\n",
              "      <th></th>\n",
              "      <th>Customer-ID</th>\n",
              "      <th>Amount</th>\n",
              "      <th>Date</th>\n",
              "    </tr>\n",
              "  </thead>\n",
              "  <tbody>\n",
              "    <tr>\n",
              "      <td>0</td>\n",
              "      <td>760</td>\n",
              "      <td>25.0</td>\n",
              "      <td>2009-11-06</td>\n",
              "    </tr>\n",
              "    <tr>\n",
              "      <td>1</td>\n",
              "      <td>860</td>\n",
              "      <td>50.0</td>\n",
              "      <td>2012-09-28</td>\n",
              "    </tr>\n",
              "    <tr>\n",
              "      <td>2</td>\n",
              "      <td>1200</td>\n",
              "      <td>100.0</td>\n",
              "      <td>2005-10-25</td>\n",
              "    </tr>\n",
              "    <tr>\n",
              "      <td>3</td>\n",
              "      <td>1420</td>\n",
              "      <td>50.0</td>\n",
              "      <td>2009-07-09</td>\n",
              "    </tr>\n",
              "    <tr>\n",
              "      <td>4</td>\n",
              "      <td>1940</td>\n",
              "      <td>70.0</td>\n",
              "      <td>2013-01-25</td>\n",
              "    </tr>\n",
              "  </tbody>\n",
              "</table>\n",
              "</div>"
            ],
            "text/plain": [
              "   Customer-ID  Amount       Date\n",
              "0          760    25.0 2009-11-06\n",
              "1          860    50.0 2012-09-28\n",
              "2         1200   100.0 2005-10-25\n",
              "3         1420    50.0 2009-07-09\n",
              "4         1940    70.0 2013-01-25"
            ]
          },
          "metadata": {
            "tags": []
          },
          "execution_count": 458
        }
      ]
    },
    {
      "cell_type": "code",
      "metadata": {
        "id": "YrQMmpM4rl3b",
        "colab_type": "code",
        "colab": {},
        "outputId": "f2b9a29b-950e-4684-a06f-89cf004a734d"
      },
      "source": [
        "df.shape"
      ],
      "execution_count": null,
      "outputs": [
        {
          "output_type": "execute_result",
          "data": {
            "text/plain": [
              "(51243, 3)"
            ]
          },
          "metadata": {
            "tags": []
          },
          "execution_count": 459
        }
      ]
    },
    {
      "cell_type": "code",
      "metadata": {
        "id": "sy9LQ9Corl3f",
        "colab_type": "code",
        "colab": {}
      },
      "source": [
        "df['year']=df.Date.transform(lambda x: x.year)"
      ],
      "execution_count": null,
      "outputs": []
    },
    {
      "cell_type": "code",
      "metadata": {
        "id": "o9tzcWQ6rl3i",
        "colab_type": "code",
        "colab": {},
        "outputId": "0bb62495-1e79-4557-ceac-af93917e2235"
      },
      "source": [
        "df.head()"
      ],
      "execution_count": null,
      "outputs": [
        {
          "output_type": "execute_result",
          "data": {
            "text/html": [
              "<div>\n",
              "<style scoped>\n",
              "    .dataframe tbody tr th:only-of-type {\n",
              "        vertical-align: middle;\n",
              "    }\n",
              "\n",
              "    .dataframe tbody tr th {\n",
              "        vertical-align: top;\n",
              "    }\n",
              "\n",
              "    .dataframe thead th {\n",
              "        text-align: right;\n",
              "    }\n",
              "</style>\n",
              "<table border=\"1\" class=\"dataframe\">\n",
              "  <thead>\n",
              "    <tr style=\"text-align: right;\">\n",
              "      <th></th>\n",
              "      <th>Customer-ID</th>\n",
              "      <th>Amount</th>\n",
              "      <th>Date</th>\n",
              "      <th>year</th>\n",
              "    </tr>\n",
              "  </thead>\n",
              "  <tbody>\n",
              "    <tr>\n",
              "      <td>0</td>\n",
              "      <td>760</td>\n",
              "      <td>25.0</td>\n",
              "      <td>2009-11-06</td>\n",
              "      <td>2009</td>\n",
              "    </tr>\n",
              "    <tr>\n",
              "      <td>1</td>\n",
              "      <td>860</td>\n",
              "      <td>50.0</td>\n",
              "      <td>2012-09-28</td>\n",
              "      <td>2012</td>\n",
              "    </tr>\n",
              "    <tr>\n",
              "      <td>2</td>\n",
              "      <td>1200</td>\n",
              "      <td>100.0</td>\n",
              "      <td>2005-10-25</td>\n",
              "      <td>2005</td>\n",
              "    </tr>\n",
              "    <tr>\n",
              "      <td>3</td>\n",
              "      <td>1420</td>\n",
              "      <td>50.0</td>\n",
              "      <td>2009-07-09</td>\n",
              "      <td>2009</td>\n",
              "    </tr>\n",
              "    <tr>\n",
              "      <td>4</td>\n",
              "      <td>1940</td>\n",
              "      <td>70.0</td>\n",
              "      <td>2013-01-25</td>\n",
              "      <td>2013</td>\n",
              "    </tr>\n",
              "  </tbody>\n",
              "</table>\n",
              "</div>"
            ],
            "text/plain": [
              "   Customer-ID  Amount       Date  year\n",
              "0          760    25.0 2009-11-06  2009\n",
              "1          860    50.0 2012-09-28  2012\n",
              "2         1200   100.0 2005-10-25  2005\n",
              "3         1420    50.0 2009-07-09  2009\n",
              "4         1940    70.0 2013-01-25  2013"
            ]
          },
          "metadata": {
            "tags": []
          },
          "execution_count": 461
        }
      ]
    },
    {
      "cell_type": "code",
      "metadata": {
        "id": "oFgjtUE6rl3l",
        "colab_type": "code",
        "colab": {},
        "outputId": "00133ddd-e701-4c45-f069-f4945c475f8c"
      },
      "source": [
        "df.info()"
      ],
      "execution_count": null,
      "outputs": [
        {
          "output_type": "stream",
          "text": [
            "<class 'pandas.core.frame.DataFrame'>\n",
            "RangeIndex: 51243 entries, 0 to 51242\n",
            "Data columns (total 4 columns):\n",
            "Customer-ID    51243 non-null int64\n",
            "Amount         51243 non-null float64\n",
            "Date           51243 non-null datetime64[ns]\n",
            "year           51243 non-null int64\n",
            "dtypes: datetime64[ns](1), float64(1), int64(2)\n",
            "memory usage: 1.6 MB\n"
          ],
          "name": "stdout"
        }
      ]
    },
    {
      "cell_type": "code",
      "metadata": {
        "id": "fJDSdEYlrl3o",
        "colab_type": "code",
        "colab": {},
        "outputId": "ea863a70-ab5d-4bd2-f32b-a3441352b787"
      },
      "source": [
        "df.describe()"
      ],
      "execution_count": null,
      "outputs": [
        {
          "output_type": "execute_result",
          "data": {
            "text/html": [
              "<div>\n",
              "<style scoped>\n",
              "    .dataframe tbody tr th:only-of-type {\n",
              "        vertical-align: middle;\n",
              "    }\n",
              "\n",
              "    .dataframe tbody tr th {\n",
              "        vertical-align: top;\n",
              "    }\n",
              "\n",
              "    .dataframe thead th {\n",
              "        text-align: right;\n",
              "    }\n",
              "</style>\n",
              "<table border=\"1\" class=\"dataframe\">\n",
              "  <thead>\n",
              "    <tr style=\"text-align: right;\">\n",
              "      <th></th>\n",
              "      <th>Customer-ID</th>\n",
              "      <th>Amount</th>\n",
              "      <th>year</th>\n",
              "    </tr>\n",
              "  </thead>\n",
              "  <tbody>\n",
              "    <tr>\n",
              "      <td>count</td>\n",
              "      <td>51243.000000</td>\n",
              "      <td>51243.000000</td>\n",
              "      <td>51243.000000</td>\n",
              "    </tr>\n",
              "    <tr>\n",
              "      <td>mean</td>\n",
              "      <td>108934.547938</td>\n",
              "      <td>62.337195</td>\n",
              "      <td>2010.869699</td>\n",
              "    </tr>\n",
              "    <tr>\n",
              "      <td>std</td>\n",
              "      <td>67650.610139</td>\n",
              "      <td>156.606801</td>\n",
              "      <td>2.883072</td>\n",
              "    </tr>\n",
              "    <tr>\n",
              "      <td>min</td>\n",
              "      <td>10.000000</td>\n",
              "      <td>5.000000</td>\n",
              "      <td>2005.000000</td>\n",
              "    </tr>\n",
              "    <tr>\n",
              "      <td>25%</td>\n",
              "      <td>57720.000000</td>\n",
              "      <td>25.000000</td>\n",
              "      <td>2009.000000</td>\n",
              "    </tr>\n",
              "    <tr>\n",
              "      <td>50%</td>\n",
              "      <td>102440.000000</td>\n",
              "      <td>30.000000</td>\n",
              "      <td>2011.000000</td>\n",
              "    </tr>\n",
              "    <tr>\n",
              "      <td>75%</td>\n",
              "      <td>160525.000000</td>\n",
              "      <td>60.000000</td>\n",
              "      <td>2013.000000</td>\n",
              "    </tr>\n",
              "    <tr>\n",
              "      <td>max</td>\n",
              "      <td>264200.000000</td>\n",
              "      <td>4500.000000</td>\n",
              "      <td>2015.000000</td>\n",
              "    </tr>\n",
              "  </tbody>\n",
              "</table>\n",
              "</div>"
            ],
            "text/plain": [
              "         Customer-ID        Amount          year\n",
              "count   51243.000000  51243.000000  51243.000000\n",
              "mean   108934.547938     62.337195   2010.869699\n",
              "std     67650.610139    156.606801      2.883072\n",
              "min        10.000000      5.000000   2005.000000\n",
              "25%     57720.000000     25.000000   2009.000000\n",
              "50%    102440.000000     30.000000   2011.000000\n",
              "75%    160525.000000     60.000000   2013.000000\n",
              "max    264200.000000   4500.000000   2015.000000"
            ]
          },
          "metadata": {
            "tags": []
          },
          "execution_count": 463
        }
      ]
    },
    {
      "cell_type": "markdown",
      "metadata": {
        "id": "e2QDze_Srl3s",
        "colab_type": "text"
      },
      "source": [
        "## EDA"
      ]
    },
    {
      "cell_type": "code",
      "metadata": {
        "id": "mR119cKbrl3t",
        "colab_type": "code",
        "colab": {},
        "outputId": "3255cad4-c691-4cdb-fa7e-226c863b44a5"
      },
      "source": [
        "df.year.value_counts()"
      ],
      "execution_count": null,
      "outputs": [
        {
          "output_type": "execute_result",
          "data": {
            "text/plain": [
              "2015    6197\n",
              "2012    5960\n",
              "2013    5912\n",
              "2014    5739\n",
              "2009    5054\n",
              "2010    4939\n",
              "2011    4785\n",
              "2007    4674\n",
              "2008    4331\n",
              "2006    2182\n",
              "2005    1470\n",
              "Name: year, dtype: int64"
            ]
          },
          "metadata": {
            "tags": []
          },
          "execution_count": 464
        }
      ]
    },
    {
      "cell_type": "code",
      "metadata": {
        "id": "qG-eOhWvrl3y",
        "colab_type": "code",
        "colab": {},
        "outputId": "9ac32703-e429-42a0-ac19-d6bf91cb68bf"
      },
      "source": [
        "plt.figure(figsize=(10,5))\n",
        "sns.countplot(df['year'])\n",
        "plt.title(\"YearWise Footfall\", fontdict={'fontsize':15})"
      ],
      "execution_count": null,
      "outputs": [
        {
          "output_type": "execute_result",
          "data": {
            "text/plain": [
              "Text(0.5, 1.0, 'YearWise Footfall')"
            ]
          },
          "metadata": {
            "tags": []
          },
          "execution_count": 465
        },
        {
          "output_type": "display_data",
          "data": {
            "image/png": "[encoded data removed]",
            "text/plain": [
              "<Figure size 720x360 with 1 Axes>"
            ]
          },
          "metadata": {
            "tags": [],
            "needs_background": "light"
          }
        }
      ]
    },
    {
      "cell_type": "code",
      "metadata": {
        "id": "JdBHb4f-rl31",
        "colab_type": "code",
        "colab": {}
      },
      "source": [
        "avg_amount = df.groupby('year').Amount.apply(lambda x: x.mean())"
      ],
      "execution_count": null,
      "outputs": []
    },
    {
      "cell_type": "code",
      "metadata": {
        "id": "Whs7Yy7rrl35",
        "colab_type": "code",
        "colab": {},
        "outputId": "c02f516c-1f24-4566-eb14-1e7af84d4651"
      },
      "source": [
        "avg_amount"
      ],
      "execution_count": null,
      "outputs": [
        {
          "output_type": "execute_result",
          "data": {
            "text/plain": [
              "year\n",
              "2005    55.826122\n",
              "2006    52.250454\n",
              "2007    49.264014\n",
              "2008    53.071780\n",
              "2009    50.745253\n",
              "2010    58.740012\n",
              "2011    63.519300\n",
              "2012    62.913312\n",
              "2013    67.931357\n",
              "2014    75.390347\n",
              "2015    77.197697\n",
              "Name: Amount, dtype: float64"
            ]
          },
          "metadata": {
            "tags": []
          },
          "execution_count": 467
        }
      ]
    },
    {
      "cell_type": "code",
      "metadata": {
        "id": "zeucJ2nXrl38",
        "colab_type": "code",
        "colab": {},
        "outputId": "98d71b11-46a1-4a4e-e171-1e831d655335"
      },
      "source": [
        "plt.figure(figsize=(10,5))\n",
        "sns.barplot(x=avg_amount.index, y=avg_amount)\n",
        "plt.title(\"YearWise Average Amount\", fontdict={'fontsize':15})"
      ],
      "execution_count": null,
      "outputs": [
        {
          "output_type": "execute_result",
          "data": {
            "text/plain": [
              "Text(0.5, 1.0, 'YearWise Average Amount')"
            ]
          },
          "metadata": {
            "tags": []
          },
          "execution_count": 468
        },
        {
          "output_type": "display_data",
          "data": {
            "image/png": "[encoded data removed]",
            "text/plain": [
              "<Figure size 720x360 with 1 Axes>"
            ]
          },
          "metadata": {
            "tags": [],
            "needs_background": "light"
          }
        }
      ]
    },
    {
      "cell_type": "markdown",
      "metadata": {
        "id": "uwk5Qee0rl4A",
        "colab_type": "text"
      },
      "source": [
        "## Bill Data to Customer Data"
      ]
    },
    {
      "cell_type": "code",
      "metadata": {
        "id": "BmUxJ5E-rl4A",
        "colab_type": "code",
        "colab": {}
      },
      "source": [
        "time = pd.to_datetime('2016-01-01', format='%Y-%m-%d')\n",
        "df['days_since']= df.Date.apply(lambda x:time-x)"
      ],
      "execution_count": null,
      "outputs": []
    },
    {
      "cell_type": "code",
      "metadata": {
        "id": "k81oohP0rl4D",
        "colab_type": "code",
        "colab": {},
        "outputId": "5c6d437b-f192-4392-e687-3a718072a4de"
      },
      "source": [
        "df.head()"
      ],
      "execution_count": null,
      "outputs": [
        {
          "output_type": "execute_result",
          "data": {
            "text/html": [
              "<div>\n",
              "<style scoped>\n",
              "    .dataframe tbody tr th:only-of-type {\n",
              "        vertical-align: middle;\n",
              "    }\n",
              "\n",
              "    .dataframe tbody tr th {\n",
              "        vertical-align: top;\n",
              "    }\n",
              "\n",
              "    .dataframe thead th {\n",
              "        text-align: right;\n",
              "    }\n",
              "</style>\n",
              "<table border=\"1\" class=\"dataframe\">\n",
              "  <thead>\n",
              "    <tr style=\"text-align: right;\">\n",
              "      <th></th>\n",
              "      <th>Customer-ID</th>\n",
              "      <th>Amount</th>\n",
              "      <th>Date</th>\n",
              "      <th>year</th>\n",
              "      <th>days_since</th>\n",
              "    </tr>\n",
              "  </thead>\n",
              "  <tbody>\n",
              "    <tr>\n",
              "      <td>0</td>\n",
              "      <td>760</td>\n",
              "      <td>25.0</td>\n",
              "      <td>2009-11-06</td>\n",
              "      <td>2009</td>\n",
              "      <td>2247 days</td>\n",
              "    </tr>\n",
              "    <tr>\n",
              "      <td>1</td>\n",
              "      <td>860</td>\n",
              "      <td>50.0</td>\n",
              "      <td>2012-09-28</td>\n",
              "      <td>2012</td>\n",
              "      <td>1190 days</td>\n",
              "    </tr>\n",
              "    <tr>\n",
              "      <td>2</td>\n",
              "      <td>1200</td>\n",
              "      <td>100.0</td>\n",
              "      <td>2005-10-25</td>\n",
              "      <td>2005</td>\n",
              "      <td>3720 days</td>\n",
              "    </tr>\n",
              "    <tr>\n",
              "      <td>3</td>\n",
              "      <td>1420</td>\n",
              "      <td>50.0</td>\n",
              "      <td>2009-07-09</td>\n",
              "      <td>2009</td>\n",
              "      <td>2367 days</td>\n",
              "    </tr>\n",
              "    <tr>\n",
              "      <td>4</td>\n",
              "      <td>1940</td>\n",
              "      <td>70.0</td>\n",
              "      <td>2013-01-25</td>\n",
              "      <td>2013</td>\n",
              "      <td>1071 days</td>\n",
              "    </tr>\n",
              "  </tbody>\n",
              "</table>\n",
              "</div>"
            ],
            "text/plain": [
              "   Customer-ID  Amount       Date  year days_since\n",
              "0          760    25.0 2009-11-06  2009  2247 days\n",
              "1          860    50.0 2012-09-28  2012  1190 days\n",
              "2         1200   100.0 2005-10-25  2005  3720 days\n",
              "3         1420    50.0 2009-07-09  2009  2367 days\n",
              "4         1940    70.0 2013-01-25  2013  1071 days"
            ]
          },
          "metadata": {
            "tags": []
          },
          "execution_count": 470
        }
      ]
    },
    {
      "cell_type": "code",
      "metadata": {
        "id": "0b_v4rzBrl4H",
        "colab_type": "code",
        "colab": {},
        "outputId": "03a30ca2-d0a3-4ef2-f1a2-8a3f148f6711"
      },
      "source": [
        "df.describe()"
      ],
      "execution_count": null,
      "outputs": [
        {
          "output_type": "execute_result",
          "data": {
            "text/html": [
              "<div>\n",
              "<style scoped>\n",
              "    .dataframe tbody tr th:only-of-type {\n",
              "        vertical-align: middle;\n",
              "    }\n",
              "\n",
              "    .dataframe tbody tr th {\n",
              "        vertical-align: top;\n",
              "    }\n",
              "\n",
              "    .dataframe thead th {\n",
              "        text-align: right;\n",
              "    }\n",
              "</style>\n",
              "<table border=\"1\" class=\"dataframe\">\n",
              "  <thead>\n",
              "    <tr style=\"text-align: right;\">\n",
              "      <th></th>\n",
              "      <th>Customer-ID</th>\n",
              "      <th>Amount</th>\n",
              "      <th>year</th>\n",
              "      <th>days_since</th>\n",
              "    </tr>\n",
              "  </thead>\n",
              "  <tbody>\n",
              "    <tr>\n",
              "      <td>count</td>\n",
              "      <td>51243.000000</td>\n",
              "      <td>51243.000000</td>\n",
              "      <td>51243.000000</td>\n",
              "      <td>51243</td>\n",
              "    </tr>\n",
              "    <tr>\n",
              "      <td>mean</td>\n",
              "      <td>108934.547938</td>\n",
              "      <td>62.337195</td>\n",
              "      <td>2010.869699</td>\n",
              "      <td>1631 days 22:32:36.278905</td>\n",
              "    </tr>\n",
              "    <tr>\n",
              "      <td>std</td>\n",
              "      <td>67650.610139</td>\n",
              "      <td>156.606801</td>\n",
              "      <td>2.883072</td>\n",
              "      <td>1061 days 01:50:43.241863</td>\n",
              "    </tr>\n",
              "    <tr>\n",
              "      <td>min</td>\n",
              "      <td>10.000000</td>\n",
              "      <td>5.000000</td>\n",
              "      <td>2005.000000</td>\n",
              "      <td>1 days 00:00:00</td>\n",
              "    </tr>\n",
              "    <tr>\n",
              "      <td>25%</td>\n",
              "      <td>57720.000000</td>\n",
              "      <td>25.000000</td>\n",
              "      <td>2009.000000</td>\n",
              "      <td>733 days 00:00:00</td>\n",
              "    </tr>\n",
              "    <tr>\n",
              "      <td>50%</td>\n",
              "      <td>102440.000000</td>\n",
              "      <td>30.000000</td>\n",
              "      <td>2011.000000</td>\n",
              "      <td>1500 days 00:00:00</td>\n",
              "    </tr>\n",
              "    <tr>\n",
              "      <td>75%</td>\n",
              "      <td>160525.000000</td>\n",
              "      <td>60.000000</td>\n",
              "      <td>2013.000000</td>\n",
              "      <td>2540 days 00:00:00</td>\n",
              "    </tr>\n",
              "    <tr>\n",
              "      <td>max</td>\n",
              "      <td>264200.000000</td>\n",
              "      <td>4500.000000</td>\n",
              "      <td>2015.000000</td>\n",
              "      <td>4016 days 00:00:00</td>\n",
              "    </tr>\n",
              "  </tbody>\n",
              "</table>\n",
              "</div>"
            ],
            "text/plain": [
              "         Customer-ID        Amount          year                 days_since\n",
              "count   51243.000000  51243.000000  51243.000000                      51243\n",
              "mean   108934.547938     62.337195   2010.869699  1631 days 22:32:36.278905\n",
              "std     67650.610139    156.606801      2.883072  1061 days 01:50:43.241863\n",
              "min        10.000000      5.000000   2005.000000            1 days 00:00:00\n",
              "25%     57720.000000     25.000000   2009.000000          733 days 00:00:00\n",
              "50%    102440.000000     30.000000   2011.000000         1500 days 00:00:00\n",
              "75%    160525.000000     60.000000   2013.000000         2540 days 00:00:00\n",
              "max    264200.000000   4500.000000   2015.000000         4016 days 00:00:00"
            ]
          },
          "metadata": {
            "tags": []
          },
          "execution_count": 471
        }
      ]
    },
    {
      "cell_type": "code",
      "metadata": {
        "id": "YAuObHVFrl4K",
        "colab_type": "code",
        "colab": {}
      },
      "source": [
        "customer=pd.DataFrame()\n",
        "customer['recency'] = df.groupby('Customer-ID').days_since.apply(lambda x:x.min())\n",
        "customer['frequency'] = df.groupby('Customer-ID')['Customer-ID'].apply(lambda x:x.count())\n",
        "customer['monetary'] = df.groupby('Customer-ID').Amount.apply(lambda x:x.mean())"
      ],
      "execution_count": null,
      "outputs": []
    },
    {
      "cell_type": "code",
      "metadata": {
        "id": "xSt8WWWFrl4N",
        "colab_type": "code",
        "colab": {}
      },
      "source": [
        "customer.reset_index(inplace=True)"
      ],
      "execution_count": null,
      "outputs": []
    },
    {
      "cell_type": "code",
      "metadata": {
        "id": "IhUfsSvKrl4Q",
        "colab_type": "code",
        "colab": {},
        "outputId": "1fa92477-8764-42bb-98c0-74cfcdd6d919"
      },
      "source": [
        "customer.head()"
      ],
      "execution_count": null,
      "outputs": [
        {
          "output_type": "execute_result",
          "data": {
            "text/html": [
              "<div>\n",
              "<style scoped>\n",
              "    .dataframe tbody tr th:only-of-type {\n",
              "        vertical-align: middle;\n",
              "    }\n",
              "\n",
              "    .dataframe tbody tr th {\n",
              "        vertical-align: top;\n",
              "    }\n",
              "\n",
              "    .dataframe thead th {\n",
              "        text-align: right;\n",
              "    }\n",
              "</style>\n",
              "<table border=\"1\" class=\"dataframe\">\n",
              "  <thead>\n",
              "    <tr style=\"text-align: right;\">\n",
              "      <th></th>\n",
              "      <th>Customer-ID</th>\n",
              "      <th>recency</th>\n",
              "      <th>frequency</th>\n",
              "      <th>monetary</th>\n",
              "    </tr>\n",
              "  </thead>\n",
              "  <tbody>\n",
              "    <tr>\n",
              "      <td>0</td>\n",
              "      <td>10</td>\n",
              "      <td>3829 days</td>\n",
              "      <td>1</td>\n",
              "      <td>30.000000</td>\n",
              "    </tr>\n",
              "    <tr>\n",
              "      <td>1</td>\n",
              "      <td>80</td>\n",
              "      <td>343 days</td>\n",
              "      <td>7</td>\n",
              "      <td>71.428571</td>\n",
              "    </tr>\n",
              "    <tr>\n",
              "      <td>2</td>\n",
              "      <td>90</td>\n",
              "      <td>758 days</td>\n",
              "      <td>10</td>\n",
              "      <td>115.800000</td>\n",
              "    </tr>\n",
              "    <tr>\n",
              "      <td>3</td>\n",
              "      <td>120</td>\n",
              "      <td>1401 days</td>\n",
              "      <td>1</td>\n",
              "      <td>20.000000</td>\n",
              "    </tr>\n",
              "    <tr>\n",
              "      <td>4</td>\n",
              "      <td>130</td>\n",
              "      <td>2970 days</td>\n",
              "      <td>2</td>\n",
              "      <td>50.000000</td>\n",
              "    </tr>\n",
              "  </tbody>\n",
              "</table>\n",
              "</div>"
            ],
            "text/plain": [
              "   Customer-ID   recency  frequency    monetary\n",
              "0           10 3829 days          1   30.000000\n",
              "1           80  343 days          7   71.428571\n",
              "2           90  758 days         10  115.800000\n",
              "3          120 1401 days          1   20.000000\n",
              "4          130 2970 days          2   50.000000"
            ]
          },
          "metadata": {
            "tags": []
          },
          "execution_count": 474
        }
      ]
    },
    {
      "cell_type": "code",
      "metadata": {
        "id": "SBIypDwwrl4U",
        "colab_type": "code",
        "colab": {},
        "outputId": "5a8ed301-0120-4621-e8be-063430dddedb"
      },
      "source": [
        "customer.describe()"
      ],
      "execution_count": null,
      "outputs": [
        {
          "output_type": "execute_result",
          "data": {
            "text/html": [
              "<div>\n",
              "<style scoped>\n",
              "    .dataframe tbody tr th:only-of-type {\n",
              "        vertical-align: middle;\n",
              "    }\n",
              "\n",
              "    .dataframe tbody tr th {\n",
              "        vertical-align: top;\n",
              "    }\n",
              "\n",
              "    .dataframe thead th {\n",
              "        text-align: right;\n",
              "    }\n",
              "</style>\n",
              "<table border=\"1\" class=\"dataframe\">\n",
              "  <thead>\n",
              "    <tr style=\"text-align: right;\">\n",
              "      <th></th>\n",
              "      <th>Customer-ID</th>\n",
              "      <th>recency</th>\n",
              "      <th>frequency</th>\n",
              "      <th>monetary</th>\n",
              "    </tr>\n",
              "  </thead>\n",
              "  <tbody>\n",
              "    <tr>\n",
              "      <td>count</td>\n",
              "      <td>18417.000000</td>\n",
              "      <td>18417</td>\n",
              "      <td>18417.000000</td>\n",
              "      <td>18417.000000</td>\n",
              "    </tr>\n",
              "    <tr>\n",
              "      <td>mean</td>\n",
              "      <td>137573.510887</td>\n",
              "      <td>1253 days 00:54:34.539824</td>\n",
              "      <td>2.782375</td>\n",
              "      <td>57.792985</td>\n",
              "    </tr>\n",
              "    <tr>\n",
              "      <td>std</td>\n",
              "      <td>69504.599881</td>\n",
              "      <td>1081 days 10:30:31.826894</td>\n",
              "      <td>2.936888</td>\n",
              "      <td>154.360109</td>\n",
              "    </tr>\n",
              "    <tr>\n",
              "      <td>min</td>\n",
              "      <td>10.000000</td>\n",
              "      <td>1 days 00:00:00</td>\n",
              "      <td>1.000000</td>\n",
              "      <td>5.000000</td>\n",
              "    </tr>\n",
              "    <tr>\n",
              "      <td>25%</td>\n",
              "      <td>81990.000000</td>\n",
              "      <td>244 days 00:00:00</td>\n",
              "      <td>1.000000</td>\n",
              "      <td>21.666667</td>\n",
              "    </tr>\n",
              "    <tr>\n",
              "      <td>50%</td>\n",
              "      <td>136430.000000</td>\n",
              "      <td>1070 days 00:00:00</td>\n",
              "      <td>2.000000</td>\n",
              "      <td>30.000000</td>\n",
              "    </tr>\n",
              "    <tr>\n",
              "      <td>75%</td>\n",
              "      <td>195100.000000</td>\n",
              "      <td>2130 days 00:00:00</td>\n",
              "      <td>3.000000</td>\n",
              "      <td>50.000000</td>\n",
              "    </tr>\n",
              "    <tr>\n",
              "      <td>max</td>\n",
              "      <td>264200.000000</td>\n",
              "      <td>4014 days 00:00:00</td>\n",
              "      <td>45.000000</td>\n",
              "      <td>4500.000000</td>\n",
              "    </tr>\n",
              "  </tbody>\n",
              "</table>\n",
              "</div>"
            ],
            "text/plain": [
              "         Customer-ID                    recency     frequency      monetary\n",
              "count   18417.000000                      18417  18417.000000  18417.000000\n",
              "mean   137573.510887  1253 days 00:54:34.539824      2.782375     57.792985\n",
              "std     69504.599881  1081 days 10:30:31.826894      2.936888    154.360109\n",
              "min        10.000000            1 days 00:00:00      1.000000      5.000000\n",
              "25%     81990.000000          244 days 00:00:00      1.000000     21.666667\n",
              "50%    136430.000000         1070 days 00:00:00      2.000000     30.000000\n",
              "75%    195100.000000         2130 days 00:00:00      3.000000     50.000000\n",
              "max    264200.000000         4014 days 00:00:00     45.000000   4500.000000"
            ]
          },
          "metadata": {
            "tags": []
          },
          "execution_count": 475
        }
      ]
    },
    {
      "cell_type": "code",
      "metadata": {
        "id": "kHQ_dliqrl4X",
        "colab_type": "code",
        "colab": {}
      },
      "source": [
        "customer['recency']=customer['recency'].astype('timedelta64[D]')"
      ],
      "execution_count": null,
      "outputs": []
    },
    {
      "cell_type": "code",
      "metadata": {
        "id": "IEnfGG3Lrl4c",
        "colab_type": "code",
        "colab": {},
        "outputId": "3c852bd7-c47a-49cf-a015-77807b9cebea"
      },
      "source": [
        "customer.head()"
      ],
      "execution_count": null,
      "outputs": [
        {
          "output_type": "execute_result",
          "data": {
            "text/html": [
              "<div>\n",
              "<style scoped>\n",
              "    .dataframe tbody tr th:only-of-type {\n",
              "        vertical-align: middle;\n",
              "    }\n",
              "\n",
              "    .dataframe tbody tr th {\n",
              "        vertical-align: top;\n",
              "    }\n",
              "\n",
              "    .dataframe thead th {\n",
              "        text-align: right;\n",
              "    }\n",
              "</style>\n",
              "<table border=\"1\" class=\"dataframe\">\n",
              "  <thead>\n",
              "    <tr style=\"text-align: right;\">\n",
              "      <th></th>\n",
              "      <th>Customer-ID</th>\n",
              "      <th>recency</th>\n",
              "      <th>frequency</th>\n",
              "      <th>monetary</th>\n",
              "    </tr>\n",
              "  </thead>\n",
              "  <tbody>\n",
              "    <tr>\n",
              "      <td>0</td>\n",
              "      <td>10</td>\n",
              "      <td>3829.0</td>\n",
              "      <td>1</td>\n",
              "      <td>30.000000</td>\n",
              "    </tr>\n",
              "    <tr>\n",
              "      <td>1</td>\n",
              "      <td>80</td>\n",
              "      <td>343.0</td>\n",
              "      <td>7</td>\n",
              "      <td>71.428571</td>\n",
              "    </tr>\n",
              "    <tr>\n",
              "      <td>2</td>\n",
              "      <td>90</td>\n",
              "      <td>758.0</td>\n",
              "      <td>10</td>\n",
              "      <td>115.800000</td>\n",
              "    </tr>\n",
              "    <tr>\n",
              "      <td>3</td>\n",
              "      <td>120</td>\n",
              "      <td>1401.0</td>\n",
              "      <td>1</td>\n",
              "      <td>20.000000</td>\n",
              "    </tr>\n",
              "    <tr>\n",
              "      <td>4</td>\n",
              "      <td>130</td>\n",
              "      <td>2970.0</td>\n",
              "      <td>2</td>\n",
              "      <td>50.000000</td>\n",
              "    </tr>\n",
              "  </tbody>\n",
              "</table>\n",
              "</div>"
            ],
            "text/plain": [
              "   Customer-ID  recency  frequency    monetary\n",
              "0           10   3829.0          1   30.000000\n",
              "1           80    343.0          7   71.428571\n",
              "2           90    758.0         10  115.800000\n",
              "3          120   1401.0          1   20.000000\n",
              "4          130   2970.0          2   50.000000"
            ]
          },
          "metadata": {
            "tags": []
          },
          "execution_count": 477
        }
      ]
    },
    {
      "cell_type": "code",
      "metadata": {
        "id": "98qLsvpVrl4f",
        "colab_type": "code",
        "colab": {},
        "outputId": "0708c3ee-2dfb-4caa-875e-bd21fefd850d"
      },
      "source": [
        "customer.shape"
      ],
      "execution_count": null,
      "outputs": [
        {
          "output_type": "execute_result",
          "data": {
            "text/plain": [
              "(18417, 4)"
            ]
          },
          "metadata": {
            "tags": []
          },
          "execution_count": 478
        }
      ]
    },
    {
      "cell_type": "code",
      "metadata": {
        "id": "h-c4NNPFrl4i",
        "colab_type": "code",
        "colab": {},
        "outputId": "83f5b155-4e08-4093-c3c4-2a85d8b76c61"
      },
      "source": [
        "plt.figure(figsize=(10,5))\n",
        "sns.distplot(customer['recency'])"
      ],
      "execution_count": null,
      "outputs": [
        {
          "output_type": "execute_result",
          "data": {
            "text/plain": [
              "<matplotlib.axes._subplots.AxesSubplot at 0x2aab2b9d048>"
            ]
          },
          "metadata": {
            "tags": []
          },
          "execution_count": 479
        },
        {
          "output_type": "display_data",
          "data": {
            "image/png": "[encoded data removed]",
            "text/plain": [
              "<Figure size 720x360 with 1 Axes>"
            ]
          },
          "metadata": {
            "tags": [],
            "needs_background": "light"
          }
        }
      ]
    },
    {
      "cell_type": "code",
      "metadata": {
        "id": "CByARAX7rl4n",
        "colab_type": "code",
        "colab": {},
        "outputId": "04197f95-600b-4dd0-b541-18d2b6e30589"
      },
      "source": [
        "customer.info()"
      ],
      "execution_count": null,
      "outputs": [
        {
          "output_type": "stream",
          "text": [
            "<class 'pandas.core.frame.DataFrame'>\n",
            "RangeIndex: 18417 entries, 0 to 18416\n",
            "Data columns (total 4 columns):\n",
            "Customer-ID    18417 non-null int64\n",
            "recency        18417 non-null float64\n",
            "frequency      18417 non-null int64\n",
            "monetary       18417 non-null float64\n",
            "dtypes: float64(2), int64(2)\n",
            "memory usage: 575.7 KB\n"
          ],
          "name": "stdout"
        }
      ]
    },
    {
      "cell_type": "code",
      "metadata": {
        "id": "SfJvg6afrl4r",
        "colab_type": "code",
        "colab": {},
        "outputId": "9cbb2c73-7132-4ceb-e2b6-af5d1020a12a"
      },
      "source": [
        "plt.figure(figsize=(10,5))\n",
        "sns.distplot(customer['frequency'])"
      ],
      "execution_count": null,
      "outputs": [
        {
          "output_type": "execute_result",
          "data": {
            "text/plain": [
              "<matplotlib.axes._subplots.AxesSubplot at 0x2aab2aa2f48>"
            ]
          },
          "metadata": {
            "tags": []
          },
          "execution_count": 481
        },
        {
          "output_type": "display_data",
          "data": {
            "image/png": "[encoded data removed]",
            "text/plain": [
              "<Figure size 720x360 with 1 Axes>"
            ]
          },
          "metadata": {
            "tags": [],
            "needs_background": "light"
          }
        }
      ]
    },
    {
      "cell_type": "code",
      "metadata": {
        "id": "tmKKIIzVrl4u",
        "colab_type": "code",
        "colab": {},
        "outputId": "c3cfdf34-7253-4dad-a024-214f1c2b1566"
      },
      "source": [
        "plt.figure(figsize=(10,5))\n",
        "sns.distplot(customer['monetary'])"
      ],
      "execution_count": null,
      "outputs": [
        {
          "output_type": "execute_result",
          "data": {
            "text/plain": [
              "<matplotlib.axes._subplots.AxesSubplot at 0x2aab3cf1808>"
            ]
          },
          "metadata": {
            "tags": []
          },
          "execution_count": 482
        },
        {
          "output_type": "display_data",
          "data": {
            "image/png": "[encoded data removed]",
            "text/plain": [
              "<Figure size 720x360 with 1 Axes>"
            ]
          },
          "metadata": {
            "tags": [],
            "needs_background": "light"
          }
        }
      ]
    },
    {
      "cell_type": "code",
      "metadata": {
        "id": "1IXeF_pOrl4x",
        "colab_type": "code",
        "colab": {}
      },
      "source": [
        "customer['monetary']=np.log(customer['monetary'])"
      ],
      "execution_count": null,
      "outputs": []
    },
    {
      "cell_type": "code",
      "metadata": {
        "id": "rbH0XcBZrl40",
        "colab_type": "code",
        "colab": {},
        "outputId": "7f74b260-0dfc-4176-9922-11231cfa9745"
      },
      "source": [
        "plt.figure(figsize=(10,5))\n",
        "sns.distplot(customer['monetary'])"
      ],
      "execution_count": null,
      "outputs": [
        {
          "output_type": "execute_result",
          "data": {
            "text/plain": [
              "<matplotlib.axes._subplots.AxesSubplot at 0x2aab3dfdec8>"
            ]
          },
          "metadata": {
            "tags": []
          },
          "execution_count": 484
        },
        {
          "output_type": "display_data",
          "data": {
            "image/png": "[encoded data removed]",
            "text/plain": [
              "<Figure size 720x360 with 1 Axes>"
            ]
          },
          "metadata": {
            "tags": [],
            "needs_background": "light"
          }
        }
      ]
    },
    {
      "cell_type": "code",
      "metadata": {
        "id": "kQ8leFkZrl43",
        "colab_type": "code",
        "colab": {},
        "outputId": "358437b5-5a73-4355-d3c1-863530362e93"
      },
      "source": [
        "customer.head()"
      ],
      "execution_count": null,
      "outputs": [
        {
          "output_type": "execute_result",
          "data": {
            "text/html": [
              "<div>\n",
              "<style scoped>\n",
              "    .dataframe tbody tr th:only-of-type {\n",
              "        vertical-align: middle;\n",
              "    }\n",
              "\n",
              "    .dataframe tbody tr th {\n",
              "        vertical-align: top;\n",
              "    }\n",
              "\n",
              "    .dataframe thead th {\n",
              "        text-align: right;\n",
              "    }\n",
              "</style>\n",
              "<table border=\"1\" class=\"dataframe\">\n",
              "  <thead>\n",
              "    <tr style=\"text-align: right;\">\n",
              "      <th></th>\n",
              "      <th>Customer-ID</th>\n",
              "      <th>recency</th>\n",
              "      <th>frequency</th>\n",
              "      <th>monetary</th>\n",
              "    </tr>\n",
              "  </thead>\n",
              "  <tbody>\n",
              "    <tr>\n",
              "      <td>0</td>\n",
              "      <td>10</td>\n",
              "      <td>3829.0</td>\n",
              "      <td>1</td>\n",
              "      <td>3.401197</td>\n",
              "    </tr>\n",
              "    <tr>\n",
              "      <td>1</td>\n",
              "      <td>80</td>\n",
              "      <td>343.0</td>\n",
              "      <td>7</td>\n",
              "      <td>4.268698</td>\n",
              "    </tr>\n",
              "    <tr>\n",
              "      <td>2</td>\n",
              "      <td>90</td>\n",
              "      <td>758.0</td>\n",
              "      <td>10</td>\n",
              "      <td>4.751865</td>\n",
              "    </tr>\n",
              "    <tr>\n",
              "      <td>3</td>\n",
              "      <td>120</td>\n",
              "      <td>1401.0</td>\n",
              "      <td>1</td>\n",
              "      <td>2.995732</td>\n",
              "    </tr>\n",
              "    <tr>\n",
              "      <td>4</td>\n",
              "      <td>130</td>\n",
              "      <td>2970.0</td>\n",
              "      <td>2</td>\n",
              "      <td>3.912023</td>\n",
              "    </tr>\n",
              "  </tbody>\n",
              "</table>\n",
              "</div>"
            ],
            "text/plain": [
              "   Customer-ID  recency  frequency  monetary\n",
              "0           10   3829.0          1  3.401197\n",
              "1           80    343.0          7  4.268698\n",
              "2           90    758.0         10  4.751865\n",
              "3          120   1401.0          1  2.995732\n",
              "4          130   2970.0          2  3.912023"
            ]
          },
          "metadata": {
            "tags": []
          },
          "execution_count": 485
        }
      ]
    },
    {
      "cell_type": "code",
      "metadata": {
        "id": "Lzz7p41rrl47",
        "colab_type": "code",
        "colab": {}
      },
      "source": [
        "customer.drop(['Customer-ID'], axis=1, inplace=True)"
      ],
      "execution_count": null,
      "outputs": []
    },
    {
      "cell_type": "code",
      "metadata": {
        "id": "PybUkZbErl4_",
        "colab_type": "code",
        "colab": {},
        "outputId": "3604d721-79e1-4893-c8e3-c4387d34c4f3"
      },
      "source": [
        "customer.head()"
      ],
      "execution_count": null,
      "outputs": [
        {
          "output_type": "execute_result",
          "data": {
            "text/html": [
              "<div>\n",
              "<style scoped>\n",
              "    .dataframe tbody tr th:only-of-type {\n",
              "        vertical-align: middle;\n",
              "    }\n",
              "\n",
              "    .dataframe tbody tr th {\n",
              "        vertical-align: top;\n",
              "    }\n",
              "\n",
              "    .dataframe thead th {\n",
              "        text-align: right;\n",
              "    }\n",
              "</style>\n",
              "<table border=\"1\" class=\"dataframe\">\n",
              "  <thead>\n",
              "    <tr style=\"text-align: right;\">\n",
              "      <th></th>\n",
              "      <th>recency</th>\n",
              "      <th>frequency</th>\n",
              "      <th>monetary</th>\n",
              "    </tr>\n",
              "  </thead>\n",
              "  <tbody>\n",
              "    <tr>\n",
              "      <td>0</td>\n",
              "      <td>3829.0</td>\n",
              "      <td>1</td>\n",
              "      <td>3.401197</td>\n",
              "    </tr>\n",
              "    <tr>\n",
              "      <td>1</td>\n",
              "      <td>343.0</td>\n",
              "      <td>7</td>\n",
              "      <td>4.268698</td>\n",
              "    </tr>\n",
              "    <tr>\n",
              "      <td>2</td>\n",
              "      <td>758.0</td>\n",
              "      <td>10</td>\n",
              "      <td>4.751865</td>\n",
              "    </tr>\n",
              "    <tr>\n",
              "      <td>3</td>\n",
              "      <td>1401.0</td>\n",
              "      <td>1</td>\n",
              "      <td>2.995732</td>\n",
              "    </tr>\n",
              "    <tr>\n",
              "      <td>4</td>\n",
              "      <td>2970.0</td>\n",
              "      <td>2</td>\n",
              "      <td>3.912023</td>\n",
              "    </tr>\n",
              "  </tbody>\n",
              "</table>\n",
              "</div>"
            ],
            "text/plain": [
              "   recency  frequency  monetary\n",
              "0   3829.0          1  3.401197\n",
              "1    343.0          7  4.268698\n",
              "2    758.0         10  4.751865\n",
              "3   1401.0          1  2.995732\n",
              "4   2970.0          2  3.912023"
            ]
          },
          "metadata": {
            "tags": []
          },
          "execution_count": 487
        }
      ]
    },
    {
      "cell_type": "code",
      "metadata": {
        "id": "4_YjbUDUrl5C",
        "colab_type": "code",
        "colab": {}
      },
      "source": [
        "from sklearn.preprocessing import StandardScaler\n",
        "sc = StandardScaler()\n",
        "customer_sc = sc.fit_transform(customer.values)"
      ],
      "execution_count": null,
      "outputs": []
    },
    {
      "cell_type": "code",
      "metadata": {
        "id": "9XhJNjgNrl5E",
        "colab_type": "code",
        "colab": {},
        "outputId": "7a10f028-fd1b-4d7a-925b-1e60c311f424"
      },
      "source": [
        "pd.DataFrame(customer_sc)"
      ],
      "execution_count": null,
      "outputs": [
        {
          "output_type": "execute_result",
          "data": {
            "text/html": [
              "<div>\n",
              "<style scoped>\n",
              "    .dataframe tbody tr th:only-of-type {\n",
              "        vertical-align: middle;\n",
              "    }\n",
              "\n",
              "    .dataframe tbody tr th {\n",
              "        vertical-align: top;\n",
              "    }\n",
              "\n",
              "    .dataframe thead th {\n",
              "        text-align: right;\n",
              "    }\n",
              "</style>\n",
              "<table border=\"1\" class=\"dataframe\">\n",
              "  <thead>\n",
              "    <tr style=\"text-align: right;\">\n",
              "      <th></th>\n",
              "      <th>0</th>\n",
              "      <th>1</th>\n",
              "      <th>2</th>\n",
              "    </tr>\n",
              "  </thead>\n",
              "  <tbody>\n",
              "    <tr>\n",
              "      <td>0</td>\n",
              "      <td>2.382043</td>\n",
              "      <td>-0.606909</td>\n",
              "      <td>-0.235802</td>\n",
              "    </tr>\n",
              "    <tr>\n",
              "      <td>1</td>\n",
              "      <td>-0.841530</td>\n",
              "      <td>1.436125</td>\n",
              "      <td>0.894386</td>\n",
              "    </tr>\n",
              "    <tr>\n",
              "      <td>2</td>\n",
              "      <td>-0.457771</td>\n",
              "      <td>2.457642</td>\n",
              "      <td>1.523861</td>\n",
              "    </tr>\n",
              "    <tr>\n",
              "      <td>3</td>\n",
              "      <td>0.136824</td>\n",
              "      <td>-0.606909</td>\n",
              "      <td>-0.764046</td>\n",
              "    </tr>\n",
              "    <tr>\n",
              "      <td>4</td>\n",
              "      <td>1.587709</td>\n",
              "      <td>-0.266403</td>\n",
              "      <td>0.429707</td>\n",
              "    </tr>\n",
              "    <tr>\n",
              "      <td>...</td>\n",
              "      <td>...</td>\n",
              "      <td>...</td>\n",
              "      <td>...</td>\n",
              "    </tr>\n",
              "    <tr>\n",
              "      <td>18412</td>\n",
              "      <td>-1.157784</td>\n",
              "      <td>-0.606909</td>\n",
              "      <td>-1.667085</td>\n",
              "    </tr>\n",
              "    <tr>\n",
              "      <td>18413</td>\n",
              "      <td>-1.033872</td>\n",
              "      <td>-0.606909</td>\n",
              "      <td>0.429707</td>\n",
              "    </tr>\n",
              "    <tr>\n",
              "      <td>18414</td>\n",
              "      <td>-1.127269</td>\n",
              "      <td>-0.606909</td>\n",
              "      <td>-0.764046</td>\n",
              "    </tr>\n",
              "    <tr>\n",
              "      <td>18415</td>\n",
              "      <td>-1.154086</td>\n",
              "      <td>-0.606909</td>\n",
              "      <td>0.529972</td>\n",
              "    </tr>\n",
              "    <tr>\n",
              "      <td>18416</td>\n",
              "      <td>-1.157784</td>\n",
              "      <td>-0.606909</td>\n",
              "      <td>3.429538</td>\n",
              "    </tr>\n",
              "  </tbody>\n",
              "</table>\n",
              "<p>18417 rows × 3 columns</p>\n",
              "</div>"
            ],
            "text/plain": [
              "              0         1         2\n",
              "0      2.382043 -0.606909 -0.235802\n",
              "1     -0.841530  1.436125  0.894386\n",
              "2     -0.457771  2.457642  1.523861\n",
              "3      0.136824 -0.606909 -0.764046\n",
              "4      1.587709 -0.266403  0.429707\n",
              "...         ...       ...       ...\n",
              "18412 -1.157784 -0.606909 -1.667085\n",
              "18413 -1.033872 -0.606909  0.429707\n",
              "18414 -1.127269 -0.606909 -0.764046\n",
              "18415 -1.154086 -0.606909  0.529972\n",
              "18416 -1.157784 -0.606909  3.429538\n",
              "\n",
              "[18417 rows x 3 columns]"
            ]
          },
          "metadata": {
            "tags": []
          },
          "execution_count": 489
        }
      ]
    },
    {
      "cell_type": "code",
      "metadata": {
        "id": "E0ghravNrl5K",
        "colab_type": "code",
        "colab": {}
      },
      "source": [
        "customer_1=customer.copy()"
      ],
      "execution_count": null,
      "outputs": []
    },
    {
      "cell_type": "markdown",
      "metadata": {
        "id": "zirJCv6Drl5P",
        "colab_type": "text"
      },
      "source": [
        "## Kmeans"
      ]
    },
    {
      "cell_type": "code",
      "metadata": {
        "id": "X7wZNq8Hrl5Q",
        "colab_type": "code",
        "colab": {}
      },
      "source": [
        "from sklearn.cluster import KMeans"
      ],
      "execution_count": null,
      "outputs": []
    },
    {
      "cell_type": "code",
      "metadata": {
        "id": "c4yN3bGorl5S",
        "colab_type": "code",
        "colab": {},
        "outputId": "4791176a-c719-48b0-94ca-e388c4b0c033"
      },
      "source": [
        "wcss=[]\n",
        "for i in range(1,10):\n",
        "    kmeans = KMeans(n_clusters = i, init='k-means++', random_state=42)\n",
        "    kmeans.fit(customer_sc)\n",
        "\n",
        "\n",
        "    wcss.append(kmeans.inertia_)\n",
        "\n",
        "plt.figure(figsize=(10,5))\n",
        "sns.set_style('whitegrid')\n",
        "sns.lineplot(x=range(1,10), y=wcss,lw= 3)\n",
        "plt.title('The Elbow Method')\n",
        "plt.xlabel('Number of clusters')\n",
        "plt.ylabel('WCSS')\n",
        "                 "
      ],
      "execution_count": null,
      "outputs": [
        {
          "output_type": "execute_result",
          "data": {
            "text/plain": [
              "Text(0, 0.5, 'WCSS')"
            ]
          },
          "metadata": {
            "tags": []
          },
          "execution_count": 492
        },
        {
          "output_type": "display_data",
          "data": {
            "image/png": "[encoded data removed]",
            "text/plain": [
              "<Figure size 720x360 with 1 Axes>"
            ]
          },
          "metadata": {
            "tags": [],
            "needs_background": "light"
          }
        }
      ]
    },
    {
      "cell_type": "markdown",
      "metadata": {
        "id": "Y568uSNdrl5W",
        "colab_type": "text"
      },
      "source": [
        "## 6 Cluster Centers"
      ]
    },
    {
      "cell_type": "code",
      "metadata": {
        "id": "hKnn-SKNrl5Z",
        "colab_type": "code",
        "colab": {},
        "outputId": "182f509f-bfe7-4cf5-cbbc-6dfd94ee767a"
      },
      "source": [
        "kmeans=KMeans(n_clusters=6, init='k-means++', random_state=42)\n",
        "kmeans.fit(customer_sc)"
      ],
      "execution_count": null,
      "outputs": [
        {
          "output_type": "execute_result",
          "data": {
            "text/plain": [
              "KMeans(algorithm='auto', copy_x=True, init='k-means++', max_iter=300,\n",
              "       n_clusters=6, n_init=10, n_jobs=None, precompute_distances='auto',\n",
              "       random_state=42, tol=0.0001, verbose=0)"
            ]
          },
          "metadata": {
            "tags": []
          },
          "execution_count": 493
        }
      ]
    },
    {
      "cell_type": "code",
      "metadata": {
        "id": "eD_XXPDCrl5d",
        "colab_type": "code",
        "colab": {},
        "outputId": "73842915-322c-4f14-9957-5b23d8bcb0ef"
      },
      "source": [
        "kmeans.cluster_centers_"
      ],
      "execution_count": null,
      "outputs": [
        {
          "output_type": "execute_result",
          "data": {
            "text/plain": [
              "array([[ 1.1764366 , -0.38956895,  0.25016248],\n",
              "       [-0.63767102, -0.20428795,  0.74306929],\n",
              "       [-0.87251191,  2.19972141,  0.22477794],\n",
              "       [-0.53772314, -0.25084289, -0.57078692],\n",
              "       [-0.42044372,  0.11486291,  3.1906975 ],\n",
              "       [ 1.20560373, -0.464325  , -1.0043526 ]])"
            ]
          },
          "metadata": {
            "tags": []
          },
          "execution_count": 494
        }
      ]
    },
    {
      "cell_type": "code",
      "metadata": {
        "id": "Ht_sSR73rl5h",
        "colab_type": "code",
        "colab": {}
      },
      "source": [
        "customer['clusters']= kmeans.labels_"
      ],
      "execution_count": null,
      "outputs": []
    },
    {
      "cell_type": "code",
      "metadata": {
        "id": "SSl-e-X9rl5k",
        "colab_type": "code",
        "colab": {},
        "outputId": "2e61d446-6c97-4a55-b23d-d101bf138487"
      },
      "source": [
        "customer_sc"
      ],
      "execution_count": null,
      "outputs": [
        {
          "output_type": "execute_result",
          "data": {
            "text/plain": [
              "array([[ 2.38204349, -0.60690881, -0.23580188],\n",
              "       [-0.84153018,  1.43612529,  0.89438649],\n",
              "       [-0.45777141,  2.45764235,  1.52386076],\n",
              "       ...,\n",
              "       [-1.12726864, -0.60690881, -0.76404585],\n",
              "       [-1.15408552, -0.60690881,  0.52997243],\n",
              "       [-1.1577844 , -0.60690881,  3.42953758]])"
            ]
          },
          "metadata": {
            "tags": []
          },
          "execution_count": 496
        }
      ]
    },
    {
      "cell_type": "code",
      "metadata": {
        "id": "bKsEE-uYrl5m",
        "colab_type": "code",
        "colab": {},
        "outputId": "600458b4-7cfa-463d-cdd4-7423c2e0a9fc"
      },
      "source": [
        "plt.figure(figsize=(10,5))\n",
        "plt.scatter(customer_sc[:,0], customer_sc[:,2] ,c =kmeans.labels_)\n",
        "plt.grid(b=None)\n",
        "plt.title(\"Clusters\", fontdict={'fontsize':15})"
      ],
      "execution_count": null,
      "outputs": [
        {
          "output_type": "execute_result",
          "data": {
            "text/plain": [
              "Text(0.5, 1.0, 'Clusters')"
            ]
          },
          "metadata": {
            "tags": []
          },
          "execution_count": 497
        },
        {
          "output_type": "display_data",
          "data": {
            "image/png": "[encoded data removed]",
            "text/plain": [
              "<Figure size 720x360 with 1 Axes>"
            ]
          },
          "metadata": {
            "tags": []
          }
        }
      ]
    },
    {
      "cell_type": "code",
      "metadata": {
        "id": "mtCj6fsxrl5p",
        "colab_type": "code",
        "colab": {},
        "outputId": "21980f42-f977-4a64-c652-15ecb2f05b9c"
      },
      "source": [
        "pd.crosstab(kmeans.labels_, kmeans.labels_)"
      ],
      "execution_count": null,
      "outputs": [
        {
          "output_type": "execute_result",
          "data": {
            "text/html": [
              "<div>\n",
              "<style scoped>\n",
              "    .dataframe tbody tr th:only-of-type {\n",
              "        vertical-align: middle;\n",
              "    }\n",
              "\n",
              "    .dataframe tbody tr th {\n",
              "        vertical-align: top;\n",
              "    }\n",
              "\n",
              "    .dataframe thead th {\n",
              "        text-align: right;\n",
              "    }\n",
              "</style>\n",
              "<table border=\"1\" class=\"dataframe\">\n",
              "  <thead>\n",
              "    <tr style=\"text-align: right;\">\n",
              "      <th>col_0</th>\n",
              "      <th>0</th>\n",
              "      <th>1</th>\n",
              "      <th>2</th>\n",
              "      <th>3</th>\n",
              "      <th>4</th>\n",
              "      <th>5</th>\n",
              "    </tr>\n",
              "    <tr>\n",
              "      <th>row_0</th>\n",
              "      <th></th>\n",
              "      <th></th>\n",
              "      <th></th>\n",
              "      <th></th>\n",
              "      <th></th>\n",
              "      <th></th>\n",
              "    </tr>\n",
              "  </thead>\n",
              "  <tbody>\n",
              "    <tr>\n",
              "      <td>0</td>\n",
              "      <td>3455</td>\n",
              "      <td>0</td>\n",
              "      <td>0</td>\n",
              "      <td>0</td>\n",
              "      <td>0</td>\n",
              "      <td>0</td>\n",
              "    </tr>\n",
              "    <tr>\n",
              "      <td>1</td>\n",
              "      <td>0</td>\n",
              "      <td>3924</td>\n",
              "      <td>0</td>\n",
              "      <td>0</td>\n",
              "      <td>0</td>\n",
              "      <td>0</td>\n",
              "    </tr>\n",
              "    <tr>\n",
              "      <td>2</td>\n",
              "      <td>0</td>\n",
              "      <td>0</td>\n",
              "      <td>2177</td>\n",
              "      <td>0</td>\n",
              "      <td>0</td>\n",
              "      <td>0</td>\n",
              "    </tr>\n",
              "    <tr>\n",
              "      <td>3</td>\n",
              "      <td>0</td>\n",
              "      <td>0</td>\n",
              "      <td>0</td>\n",
              "      <td>5429</td>\n",
              "      <td>0</td>\n",
              "      <td>0</td>\n",
              "    </tr>\n",
              "    <tr>\n",
              "      <td>4</td>\n",
              "      <td>0</td>\n",
              "      <td>0</td>\n",
              "      <td>0</td>\n",
              "      <td>0</td>\n",
              "      <td>543</td>\n",
              "      <td>0</td>\n",
              "    </tr>\n",
              "    <tr>\n",
              "      <td>5</td>\n",
              "      <td>0</td>\n",
              "      <td>0</td>\n",
              "      <td>0</td>\n",
              "      <td>0</td>\n",
              "      <td>0</td>\n",
              "      <td>2889</td>\n",
              "    </tr>\n",
              "  </tbody>\n",
              "</table>\n",
              "</div>"
            ],
            "text/plain": [
              "col_0     0     1     2     3    4     5\n",
              "row_0                                   \n",
              "0      3455     0     0     0    0     0\n",
              "1         0  3924     0     0    0     0\n",
              "2         0     0  2177     0    0     0\n",
              "3         0     0     0  5429    0     0\n",
              "4         0     0     0     0  543     0\n",
              "5         0     0     0     0    0  2889"
            ]
          },
          "metadata": {
            "tags": []
          },
          "execution_count": 498
        }
      ]
    },
    {
      "cell_type": "code",
      "metadata": {
        "id": "Hr6QHz-Vrl5t",
        "colab_type": "code",
        "colab": {},
        "outputId": "014be443-de7c-4e45-e6b8-e3d52470df08"
      },
      "source": [
        "plt.figure(figsize=(10,5))\n",
        "sns.distplot(kmeans.labels_, kde=False)\n",
        "plt.grid(b=None)"
      ],
      "execution_count": null,
      "outputs": [
        {
          "output_type": "display_data",
          "data": {
            "image/png": "[encoded data removed]",
            "text/plain": [
              "<Figure size 720x360 with 1 Axes>"
            ]
          },
          "metadata": {
            "tags": []
          }
        }
      ]
    },
    {
      "cell_type": "code",
      "metadata": {
        "id": "Vwe-l1oBrl5w",
        "colab_type": "code",
        "colab": {},
        "outputId": "8dfff122-fbc4-4947-ed65-e954a508725d"
      },
      "source": [
        "customer.head()"
      ],
      "execution_count": null,
      "outputs": [
        {
          "output_type": "execute_result",
          "data": {
            "text/html": [
              "<div>\n",
              "<style scoped>\n",
              "    .dataframe tbody tr th:only-of-type {\n",
              "        vertical-align: middle;\n",
              "    }\n",
              "\n",
              "    .dataframe tbody tr th {\n",
              "        vertical-align: top;\n",
              "    }\n",
              "\n",
              "    .dataframe thead th {\n",
              "        text-align: right;\n",
              "    }\n",
              "</style>\n",
              "<table border=\"1\" class=\"dataframe\">\n",
              "  <thead>\n",
              "    <tr style=\"text-align: right;\">\n",
              "      <th></th>\n",
              "      <th>recency</th>\n",
              "      <th>frequency</th>\n",
              "      <th>monetary</th>\n",
              "      <th>clusters</th>\n",
              "    </tr>\n",
              "  </thead>\n",
              "  <tbody>\n",
              "    <tr>\n",
              "      <td>0</td>\n",
              "      <td>3829.0</td>\n",
              "      <td>1</td>\n",
              "      <td>3.401197</td>\n",
              "      <td>0</td>\n",
              "    </tr>\n",
              "    <tr>\n",
              "      <td>1</td>\n",
              "      <td>343.0</td>\n",
              "      <td>7</td>\n",
              "      <td>4.268698</td>\n",
              "      <td>2</td>\n",
              "    </tr>\n",
              "    <tr>\n",
              "      <td>2</td>\n",
              "      <td>758.0</td>\n",
              "      <td>10</td>\n",
              "      <td>4.751865</td>\n",
              "      <td>2</td>\n",
              "    </tr>\n",
              "    <tr>\n",
              "      <td>3</td>\n",
              "      <td>1401.0</td>\n",
              "      <td>1</td>\n",
              "      <td>2.995732</td>\n",
              "      <td>3</td>\n",
              "    </tr>\n",
              "    <tr>\n",
              "      <td>4</td>\n",
              "      <td>2970.0</td>\n",
              "      <td>2</td>\n",
              "      <td>3.912023</td>\n",
              "      <td>0</td>\n",
              "    </tr>\n",
              "  </tbody>\n",
              "</table>\n",
              "</div>"
            ],
            "text/plain": [
              "   recency  frequency  monetary  clusters\n",
              "0   3829.0          1  3.401197         0\n",
              "1    343.0          7  4.268698         2\n",
              "2    758.0         10  4.751865         2\n",
              "3   1401.0          1  2.995732         3\n",
              "4   2970.0          2  3.912023         0"
            ]
          },
          "metadata": {
            "tags": []
          },
          "execution_count": 500
        }
      ]
    },
    {
      "cell_type": "code",
      "metadata": {
        "id": "LJqnpXdWrl51",
        "colab_type": "code",
        "colab": {}
      },
      "source": [
        "customer['monetary']= np.exp(customer['monetary'])"
      ],
      "execution_count": null,
      "outputs": []
    },
    {
      "cell_type": "code",
      "metadata": {
        "id": "puGjRCUhrl55",
        "colab_type": "code",
        "colab": {},
        "outputId": "fe5f57ab-fba2-44b0-c5a5-98b85405bacd"
      },
      "source": [
        "customer.head()"
      ],
      "execution_count": null,
      "outputs": [
        {
          "output_type": "execute_result",
          "data": {
            "text/html": [
              "<div>\n",
              "<style scoped>\n",
              "    .dataframe tbody tr th:only-of-type {\n",
              "        vertical-align: middle;\n",
              "    }\n",
              "\n",
              "    .dataframe tbody tr th {\n",
              "        vertical-align: top;\n",
              "    }\n",
              "\n",
              "    .dataframe thead th {\n",
              "        text-align: right;\n",
              "    }\n",
              "</style>\n",
              "<table border=\"1\" class=\"dataframe\">\n",
              "  <thead>\n",
              "    <tr style=\"text-align: right;\">\n",
              "      <th></th>\n",
              "      <th>recency</th>\n",
              "      <th>frequency</th>\n",
              "      <th>monetary</th>\n",
              "      <th>clusters</th>\n",
              "    </tr>\n",
              "  </thead>\n",
              "  <tbody>\n",
              "    <tr>\n",
              "      <td>0</td>\n",
              "      <td>3829.0</td>\n",
              "      <td>1</td>\n",
              "      <td>30.000000</td>\n",
              "      <td>0</td>\n",
              "    </tr>\n",
              "    <tr>\n",
              "      <td>1</td>\n",
              "      <td>343.0</td>\n",
              "      <td>7</td>\n",
              "      <td>71.428571</td>\n",
              "      <td>2</td>\n",
              "    </tr>\n",
              "    <tr>\n",
              "      <td>2</td>\n",
              "      <td>758.0</td>\n",
              "      <td>10</td>\n",
              "      <td>115.800000</td>\n",
              "      <td>2</td>\n",
              "    </tr>\n",
              "    <tr>\n",
              "      <td>3</td>\n",
              "      <td>1401.0</td>\n",
              "      <td>1</td>\n",
              "      <td>20.000000</td>\n",
              "      <td>3</td>\n",
              "    </tr>\n",
              "    <tr>\n",
              "      <td>4</td>\n",
              "      <td>2970.0</td>\n",
              "      <td>2</td>\n",
              "      <td>50.000000</td>\n",
              "      <td>0</td>\n",
              "    </tr>\n",
              "  </tbody>\n",
              "</table>\n",
              "</div>"
            ],
            "text/plain": [
              "   recency  frequency    monetary  clusters\n",
              "0   3829.0          1   30.000000         0\n",
              "1    343.0          7   71.428571         2\n",
              "2    758.0         10  115.800000         2\n",
              "3   1401.0          1   20.000000         3\n",
              "4   2970.0          2   50.000000         0"
            ]
          },
          "metadata": {
            "tags": []
          },
          "execution_count": 502
        }
      ]
    },
    {
      "cell_type": "code",
      "metadata": {
        "id": "llQ_EYXXrl5-",
        "colab_type": "code",
        "colab": {}
      },
      "source": [
        "cluster = customer.groupby(['clusters']).mean().reset_index()"
      ],
      "execution_count": null,
      "outputs": []
    },
    {
      "cell_type": "code",
      "metadata": {
        "id": "herDmsU5rl6C",
        "colab_type": "code",
        "colab": {},
        "outputId": "7c74e7d7-9f36-40d7-a405-df012643c7ef"
      },
      "source": [
        "cluster"
      ],
      "execution_count": null,
      "outputs": [
        {
          "output_type": "execute_result",
          "data": {
            "text/html": [
              "<div>\n",
              "<style scoped>\n",
              "    .dataframe tbody tr th:only-of-type {\n",
              "        vertical-align: middle;\n",
              "    }\n",
              "\n",
              "    .dataframe tbody tr th {\n",
              "        vertical-align: top;\n",
              "    }\n",
              "\n",
              "    .dataframe thead th {\n",
              "        text-align: right;\n",
              "    }\n",
              "</style>\n",
              "<table border=\"1\" class=\"dataframe\">\n",
              "  <thead>\n",
              "    <tr style=\"text-align: right;\">\n",
              "      <th></th>\n",
              "      <th>clusters</th>\n",
              "      <th>recency</th>\n",
              "      <th>frequency</th>\n",
              "      <th>monetary</th>\n",
              "    </tr>\n",
              "  </thead>\n",
              "  <tbody>\n",
              "    <tr>\n",
              "      <td>0</td>\n",
              "      <td>0</td>\n",
              "      <td>2524.746744</td>\n",
              "      <td>1.638495</td>\n",
              "      <td>48.220271</td>\n",
              "    </tr>\n",
              "    <tr>\n",
              "      <td>1</td>\n",
              "      <td>1</td>\n",
              "      <td>562.937819</td>\n",
              "      <td>2.182722</td>\n",
              "      <td>68.315371</td>\n",
              "    </tr>\n",
              "    <tr>\n",
              "      <td>2</td>\n",
              "      <td>2</td>\n",
              "      <td>309.496096</td>\n",
              "      <td>9.242536</td>\n",
              "      <td>52.297284</td>\n",
              "    </tr>\n",
              "    <tr>\n",
              "      <td>3</td>\n",
              "      <td>3</td>\n",
              "      <td>671.983422</td>\n",
              "      <td>2.045496</td>\n",
              "      <td>24.640859</td>\n",
              "    </tr>\n",
              "    <tr>\n",
              "      <td>4</td>\n",
              "      <td>4</td>\n",
              "      <td>798.366483</td>\n",
              "      <td>3.119705</td>\n",
              "      <td>610.422630</td>\n",
              "    </tr>\n",
              "    <tr>\n",
              "      <td>5</td>\n",
              "      <td>5</td>\n",
              "      <td>2557.890966</td>\n",
              "      <td>1.418138</td>\n",
              "      <td>17.520580</td>\n",
              "    </tr>\n",
              "  </tbody>\n",
              "</table>\n",
              "</div>"
            ],
            "text/plain": [
              "   clusters      recency  frequency    monetary\n",
              "0         0  2524.746744   1.638495   48.220271\n",
              "1         1   562.937819   2.182722   68.315371\n",
              "2         2   309.496096   9.242536   52.297284\n",
              "3         3   671.983422   2.045496   24.640859\n",
              "4         4   798.366483   3.119705  610.422630\n",
              "5         5  2557.890966   1.418138   17.520580"
            ]
          },
          "metadata": {
            "tags": []
          },
          "execution_count": 504
        }
      ]
    },
    {
      "cell_type": "code",
      "metadata": {
        "id": "xDXAFiG_rl6F",
        "colab_type": "code",
        "colab": {}
      },
      "source": [
        "cluster['total_monetary']= cluster['frequency']*cluster['monetary']"
      ],
      "execution_count": null,
      "outputs": []
    },
    {
      "cell_type": "code",
      "metadata": {
        "id": "7bCMQQkrrl6I",
        "colab_type": "code",
        "colab": {},
        "outputId": "e1ae10de-8ffa-4d20-cb61-08adbc1e66cc"
      },
      "source": [
        "cluster"
      ],
      "execution_count": null,
      "outputs": [
        {
          "output_type": "execute_result",
          "data": {
            "text/html": [
              "<div>\n",
              "<style scoped>\n",
              "    .dataframe tbody tr th:only-of-type {\n",
              "        vertical-align: middle;\n",
              "    }\n",
              "\n",
              "    .dataframe tbody tr th {\n",
              "        vertical-align: top;\n",
              "    }\n",
              "\n",
              "    .dataframe thead th {\n",
              "        text-align: right;\n",
              "    }\n",
              "</style>\n",
              "<table border=\"1\" class=\"dataframe\">\n",
              "  <thead>\n",
              "    <tr style=\"text-align: right;\">\n",
              "      <th></th>\n",
              "      <th>clusters</th>\n",
              "      <th>recency</th>\n",
              "      <th>frequency</th>\n",
              "      <th>monetary</th>\n",
              "      <th>total_monetary</th>\n",
              "    </tr>\n",
              "  </thead>\n",
              "  <tbody>\n",
              "    <tr>\n",
              "      <td>0</td>\n",
              "      <td>0</td>\n",
              "      <td>2524.746744</td>\n",
              "      <td>1.638495</td>\n",
              "      <td>48.220271</td>\n",
              "      <td>79.008670</td>\n",
              "    </tr>\n",
              "    <tr>\n",
              "      <td>1</td>\n",
              "      <td>1</td>\n",
              "      <td>562.937819</td>\n",
              "      <td>2.182722</td>\n",
              "      <td>68.315371</td>\n",
              "      <td>149.113443</td>\n",
              "    </tr>\n",
              "    <tr>\n",
              "      <td>2</td>\n",
              "      <td>2</td>\n",
              "      <td>309.496096</td>\n",
              "      <td>9.242536</td>\n",
              "      <td>52.297284</td>\n",
              "      <td>483.359506</td>\n",
              "    </tr>\n",
              "    <tr>\n",
              "      <td>3</td>\n",
              "      <td>3</td>\n",
              "      <td>671.983422</td>\n",
              "      <td>2.045496</td>\n",
              "      <td>24.640859</td>\n",
              "      <td>50.402789</td>\n",
              "    </tr>\n",
              "    <tr>\n",
              "      <td>4</td>\n",
              "      <td>4</td>\n",
              "      <td>798.366483</td>\n",
              "      <td>3.119705</td>\n",
              "      <td>610.422630</td>\n",
              "      <td>1904.338738</td>\n",
              "    </tr>\n",
              "    <tr>\n",
              "      <td>5</td>\n",
              "      <td>5</td>\n",
              "      <td>2557.890966</td>\n",
              "      <td>1.418138</td>\n",
              "      <td>17.520580</td>\n",
              "      <td>24.846596</td>\n",
              "    </tr>\n",
              "  </tbody>\n",
              "</table>\n",
              "</div>"
            ],
            "text/plain": [
              "   clusters      recency  frequency    monetary  total_monetary\n",
              "0         0  2524.746744   1.638495   48.220271       79.008670\n",
              "1         1   562.937819   2.182722   68.315371      149.113443\n",
              "2         2   309.496096   9.242536   52.297284      483.359506\n",
              "3         3   671.983422   2.045496   24.640859       50.402789\n",
              "4         4   798.366483   3.119705  610.422630     1904.338738\n",
              "5         5  2557.890966   1.418138   17.520580       24.846596"
            ]
          },
          "metadata": {
            "tags": []
          },
          "execution_count": 517
        }
      ]
    },
    {
      "cell_type": "markdown",
      "metadata": {
        "id": "YykpLadrrl6K",
        "colab_type": "text"
      },
      "source": [
        "## 5 Cluster Centers"
      ]
    },
    {
      "cell_type": "code",
      "metadata": {
        "id": "CVU66g4Nrl6L",
        "colab_type": "code",
        "colab": {},
        "outputId": "c6be8b70-721a-44d5-f55a-68cf61f7164b"
      },
      "source": [
        "kmeans_5=KMeans(n_clusters=5, init='k-means++', random_state=42)\n",
        "kmeans_5.fit(customer_sc)"
      ],
      "execution_count": null,
      "outputs": [
        {
          "output_type": "execute_result",
          "data": {
            "text/plain": [
              "KMeans(algorithm='auto', copy_x=True, init='k-means++', max_iter=300,\n",
              "       n_clusters=5, n_init=10, n_jobs=None, precompute_distances='auto',\n",
              "       random_state=42, tol=0.0001, verbose=0)"
            ]
          },
          "metadata": {
            "tags": []
          },
          "execution_count": 505
        }
      ]
    },
    {
      "cell_type": "code",
      "metadata": {
        "id": "G0EKF6Msrl6O",
        "colab_type": "code",
        "colab": {},
        "outputId": "680bcac2-5741-47e7-8706-626fe7eaad20"
      },
      "source": [
        "kmeans_5.cluster_centers_"
      ],
      "execution_count": null,
      "outputs": [
        {
          "output_type": "execute_result",
          "data": {
            "text/plain": [
              "array([[-0.54086611, -0.20855138,  0.72330751],\n",
              "       [ 1.25209809, -0.43444259, -0.3747397 ],\n",
              "       [-0.20297745,  0.04933851,  2.96378457],\n",
              "       [-0.87736573,  2.1967698 ,  0.22450582],\n",
              "       [-0.51737483, -0.25956096, -0.61183971]])"
            ]
          },
          "metadata": {
            "tags": []
          },
          "execution_count": 506
        }
      ]
    },
    {
      "cell_type": "code",
      "metadata": {
        "id": "871Zc6I2rl6R",
        "colab_type": "code",
        "colab": {}
      },
      "source": [
        "customer_1['clusters']= kmeans_5.labels_"
      ],
      "execution_count": null,
      "outputs": []
    },
    {
      "cell_type": "code",
      "metadata": {
        "id": "bLgqxsbTrl6T",
        "colab_type": "code",
        "colab": {},
        "outputId": "e6082101-5982-4a28-fc20-a870d0174877"
      },
      "source": [
        "customer_1.head()"
      ],
      "execution_count": null,
      "outputs": [
        {
          "output_type": "execute_result",
          "data": {
            "text/html": [
              "<div>\n",
              "<style scoped>\n",
              "    .dataframe tbody tr th:only-of-type {\n",
              "        vertical-align: middle;\n",
              "    }\n",
              "\n",
              "    .dataframe tbody tr th {\n",
              "        vertical-align: top;\n",
              "    }\n",
              "\n",
              "    .dataframe thead th {\n",
              "        text-align: right;\n",
              "    }\n",
              "</style>\n",
              "<table border=\"1\" class=\"dataframe\">\n",
              "  <thead>\n",
              "    <tr style=\"text-align: right;\">\n",
              "      <th></th>\n",
              "      <th>recency</th>\n",
              "      <th>frequency</th>\n",
              "      <th>monetary</th>\n",
              "      <th>clusters</th>\n",
              "    </tr>\n",
              "  </thead>\n",
              "  <tbody>\n",
              "    <tr>\n",
              "      <td>0</td>\n",
              "      <td>3829.0</td>\n",
              "      <td>1</td>\n",
              "      <td>3.401197</td>\n",
              "      <td>1</td>\n",
              "    </tr>\n",
              "    <tr>\n",
              "      <td>1</td>\n",
              "      <td>343.0</td>\n",
              "      <td>7</td>\n",
              "      <td>4.268698</td>\n",
              "      <td>3</td>\n",
              "    </tr>\n",
              "    <tr>\n",
              "      <td>2</td>\n",
              "      <td>758.0</td>\n",
              "      <td>10</td>\n",
              "      <td>4.751865</td>\n",
              "      <td>3</td>\n",
              "    </tr>\n",
              "    <tr>\n",
              "      <td>3</td>\n",
              "      <td>1401.0</td>\n",
              "      <td>1</td>\n",
              "      <td>2.995732</td>\n",
              "      <td>4</td>\n",
              "    </tr>\n",
              "    <tr>\n",
              "      <td>4</td>\n",
              "      <td>2970.0</td>\n",
              "      <td>2</td>\n",
              "      <td>3.912023</td>\n",
              "      <td>1</td>\n",
              "    </tr>\n",
              "  </tbody>\n",
              "</table>\n",
              "</div>"
            ],
            "text/plain": [
              "   recency  frequency  monetary  clusters\n",
              "0   3829.0          1  3.401197         1\n",
              "1    343.0          7  4.268698         3\n",
              "2    758.0         10  4.751865         3\n",
              "3   1401.0          1  2.995732         4\n",
              "4   2970.0          2  3.912023         1"
            ]
          },
          "metadata": {
            "tags": []
          },
          "execution_count": 508
        }
      ]
    },
    {
      "cell_type": "code",
      "metadata": {
        "id": "1DaE5FE-rl6W",
        "colab_type": "code",
        "colab": {},
        "outputId": "0537a07e-c5ff-48ef-84aa-a1db24901d94"
      },
      "source": [
        "plt.figure(figsize=(10,5))\n",
        "plt.scatter(customer_sc[:,0], customer_sc[:,2] ,c =kmeans_5.labels_)\n",
        "plt.grid(b=None)\n",
        "plt.title(\"Clusters\", fontdict={'fontsize':15})"
      ],
      "execution_count": null,
      "outputs": [
        {
          "output_type": "execute_result",
          "data": {
            "text/plain": [
              "Text(0.5, 1.0, 'Clusters')"
            ]
          },
          "metadata": {
            "tags": []
          },
          "execution_count": 509
        },
        {
          "output_type": "display_data",
          "data": {
            "image/png": "[encoded data removed]",
            "text/plain": [
              "<Figure size 720x360 with 1 Axes>"
            ]
          },
          "metadata": {
            "tags": []
          }
        }
      ]
    },
    {
      "cell_type": "code",
      "metadata": {
        "id": "5r1WzN5Grl6Z",
        "colab_type": "code",
        "colab": {}
      },
      "source": [
        "customer_1['monetary']= np.exp(customer_1['monetary'])"
      ],
      "execution_count": null,
      "outputs": []
    },
    {
      "cell_type": "code",
      "metadata": {
        "id": "hStlLNsArl6b",
        "colab_type": "code",
        "colab": {},
        "outputId": "909d1724-3da5-48e9-ee94-668fee72363e"
      },
      "source": [
        "customer_1.head()"
      ],
      "execution_count": null,
      "outputs": [
        {
          "output_type": "execute_result",
          "data": {
            "text/html": [
              "<div>\n",
              "<style scoped>\n",
              "    .dataframe tbody tr th:only-of-type {\n",
              "        vertical-align: middle;\n",
              "    }\n",
              "\n",
              "    .dataframe tbody tr th {\n",
              "        vertical-align: top;\n",
              "    }\n",
              "\n",
              "    .dataframe thead th {\n",
              "        text-align: right;\n",
              "    }\n",
              "</style>\n",
              "<table border=\"1\" class=\"dataframe\">\n",
              "  <thead>\n",
              "    <tr style=\"text-align: right;\">\n",
              "      <th></th>\n",
              "      <th>recency</th>\n",
              "      <th>frequency</th>\n",
              "      <th>monetary</th>\n",
              "      <th>clusters</th>\n",
              "    </tr>\n",
              "  </thead>\n",
              "  <tbody>\n",
              "    <tr>\n",
              "      <td>0</td>\n",
              "      <td>3829.0</td>\n",
              "      <td>1</td>\n",
              "      <td>30.000000</td>\n",
              "      <td>1</td>\n",
              "    </tr>\n",
              "    <tr>\n",
              "      <td>1</td>\n",
              "      <td>343.0</td>\n",
              "      <td>7</td>\n",
              "      <td>71.428571</td>\n",
              "      <td>3</td>\n",
              "    </tr>\n",
              "    <tr>\n",
              "      <td>2</td>\n",
              "      <td>758.0</td>\n",
              "      <td>10</td>\n",
              "      <td>115.800000</td>\n",
              "      <td>3</td>\n",
              "    </tr>\n",
              "    <tr>\n",
              "      <td>3</td>\n",
              "      <td>1401.0</td>\n",
              "      <td>1</td>\n",
              "      <td>20.000000</td>\n",
              "      <td>4</td>\n",
              "    </tr>\n",
              "    <tr>\n",
              "      <td>4</td>\n",
              "      <td>2970.0</td>\n",
              "      <td>2</td>\n",
              "      <td>50.000000</td>\n",
              "      <td>1</td>\n",
              "    </tr>\n",
              "  </tbody>\n",
              "</table>\n",
              "</div>"
            ],
            "text/plain": [
              "   recency  frequency    monetary  clusters\n",
              "0   3829.0          1   30.000000         1\n",
              "1    343.0          7   71.428571         3\n",
              "2    758.0         10  115.800000         3\n",
              "3   1401.0          1   20.000000         4\n",
              "4   2970.0          2   50.000000         1"
            ]
          },
          "metadata": {
            "tags": []
          },
          "execution_count": 511
        }
      ]
    },
    {
      "cell_type": "code",
      "metadata": {
        "id": "JHAflF-7rl6e",
        "colab_type": "code",
        "colab": {},
        "outputId": "b82b58a3-aed9-46b5-f9f2-b4b62f4053ea"
      },
      "source": [
        "plt.figure(figsize=(10,5))\n",
        "sns.distplot(kmeans_5.labels_, kde=False)\n",
        "plt.grid(b=None)"
      ],
      "execution_count": null,
      "outputs": [
        {
          "output_type": "display_data",
          "data": {
            "image/png": "[encoded data removed]",
            "text/plain": [
              "<Figure size 720x360 with 1 Axes>"
            ]
          },
          "metadata": {
            "tags": []
          }
        }
      ]
    },
    {
      "cell_type": "code",
      "metadata": {
        "id": "dRCGEFByrl6h",
        "colab_type": "code",
        "colab": {}
      },
      "source": [
        "cluster_5 = customer_1.groupby(['clusters']).mean().reset_index()"
      ],
      "execution_count": null,
      "outputs": []
    },
    {
      "cell_type": "code",
      "metadata": {
        "id": "qBx9XEp-rl6j",
        "colab_type": "code",
        "colab": {},
        "outputId": "2958af01-cecd-489a-a6d0-7abe5c4a27ef"
      },
      "source": [
        "cluster_5"
      ],
      "execution_count": null,
      "outputs": [
        {
          "output_type": "execute_result",
          "data": {
            "text/html": [
              "<div>\n",
              "<style scoped>\n",
              "    .dataframe tbody tr th:only-of-type {\n",
              "        vertical-align: middle;\n",
              "    }\n",
              "\n",
              "    .dataframe tbody tr th {\n",
              "        vertical-align: top;\n",
              "    }\n",
              "\n",
              "    .dataframe thead th {\n",
              "        text-align: right;\n",
              "    }\n",
              "</style>\n",
              "<table border=\"1\" class=\"dataframe\">\n",
              "  <thead>\n",
              "    <tr style=\"text-align: right;\">\n",
              "      <th></th>\n",
              "      <th>clusters</th>\n",
              "      <th>recency</th>\n",
              "      <th>frequency</th>\n",
              "      <th>monetary</th>\n",
              "    </tr>\n",
              "  </thead>\n",
              "  <tbody>\n",
              "    <tr>\n",
              "      <td>0</td>\n",
              "      <td>0</td>\n",
              "      <td>668.140687</td>\n",
              "      <td>2.169900</td>\n",
              "      <td>67.023549</td>\n",
              "    </tr>\n",
              "    <tr>\n",
              "      <td>1</td>\n",
              "      <td>1</td>\n",
              "      <td>2607.067429</td>\n",
              "      <td>1.506500</td>\n",
              "      <td>31.266133</td>\n",
              "    </tr>\n",
              "    <tr>\n",
              "      <td>2</td>\n",
              "      <td>2</td>\n",
              "      <td>1033.536364</td>\n",
              "      <td>2.927273</td>\n",
              "      <td>529.979909</td>\n",
              "    </tr>\n",
              "    <tr>\n",
              "      <td>3</td>\n",
              "      <td>3</td>\n",
              "      <td>304.247140</td>\n",
              "      <td>9.233867</td>\n",
              "      <td>52.457730</td>\n",
              "    </tr>\n",
              "    <tr>\n",
              "      <td>4</td>\n",
              "      <td>4</td>\n",
              "      <td>693.544352</td>\n",
              "      <td>2.020094</td>\n",
              "      <td>24.040268</td>\n",
              "    </tr>\n",
              "  </tbody>\n",
              "</table>\n",
              "</div>"
            ],
            "text/plain": [
              "   clusters      recency  frequency    monetary\n",
              "0         0   668.140687   2.169900   67.023549\n",
              "1         1  2607.067429   1.506500   31.266133\n",
              "2         2  1033.536364   2.927273  529.979909\n",
              "3         3   304.247140   9.233867   52.457730\n",
              "4         4   693.544352   2.020094   24.040268"
            ]
          },
          "metadata": {
            "tags": []
          },
          "execution_count": 513
        }
      ]
    },
    {
      "cell_type": "code",
      "metadata": {
        "id": "G7GqJQiFrl6n",
        "colab_type": "code",
        "colab": {}
      },
      "source": [
        "cluster_5['total_monetary']= cluster_5['frequency']*cluster_5['monetary']"
      ],
      "execution_count": null,
      "outputs": []
    },
    {
      "cell_type": "code",
      "metadata": {
        "id": "8APzotwYrl6p",
        "colab_type": "code",
        "colab": {},
        "outputId": "13794bc0-e320-4358-e03a-68be68dbff0e"
      },
      "source": [
        "cluster_5"
      ],
      "execution_count": null,
      "outputs": [
        {
          "output_type": "execute_result",
          "data": {
            "text/html": [
              "<div>\n",
              "<style scoped>\n",
              "    .dataframe tbody tr th:only-of-type {\n",
              "        vertical-align: middle;\n",
              "    }\n",
              "\n",
              "    .dataframe tbody tr th {\n",
              "        vertical-align: top;\n",
              "    }\n",
              "\n",
              "    .dataframe thead th {\n",
              "        text-align: right;\n",
              "    }\n",
              "</style>\n",
              "<table border=\"1\" class=\"dataframe\">\n",
              "  <thead>\n",
              "    <tr style=\"text-align: right;\">\n",
              "      <th></th>\n",
              "      <th>clusters</th>\n",
              "      <th>recency</th>\n",
              "      <th>frequency</th>\n",
              "      <th>monetary</th>\n",
              "      <th>total_monetary</th>\n",
              "    </tr>\n",
              "  </thead>\n",
              "  <tbody>\n",
              "    <tr>\n",
              "      <td>0</td>\n",
              "      <td>0</td>\n",
              "      <td>668.140687</td>\n",
              "      <td>2.169900</td>\n",
              "      <td>67.023549</td>\n",
              "      <td>145.434365</td>\n",
              "    </tr>\n",
              "    <tr>\n",
              "      <td>1</td>\n",
              "      <td>1</td>\n",
              "      <td>2607.067429</td>\n",
              "      <td>1.506500</td>\n",
              "      <td>31.266133</td>\n",
              "      <td>47.102438</td>\n",
              "    </tr>\n",
              "    <tr>\n",
              "      <td>2</td>\n",
              "      <td>2</td>\n",
              "      <td>1033.536364</td>\n",
              "      <td>2.927273</td>\n",
              "      <td>529.979909</td>\n",
              "      <td>1551.395733</td>\n",
              "    </tr>\n",
              "    <tr>\n",
              "      <td>3</td>\n",
              "      <td>3</td>\n",
              "      <td>304.247140</td>\n",
              "      <td>9.233867</td>\n",
              "      <td>52.457730</td>\n",
              "      <td>484.387712</td>\n",
              "    </tr>\n",
              "    <tr>\n",
              "      <td>4</td>\n",
              "      <td>4</td>\n",
              "      <td>693.544352</td>\n",
              "      <td>2.020094</td>\n",
              "      <td>24.040268</td>\n",
              "      <td>48.563604</td>\n",
              "    </tr>\n",
              "  </tbody>\n",
              "</table>\n",
              "</div>"
            ],
            "text/plain": [
              "   clusters      recency  frequency    monetary  total_monetary\n",
              "0         0   668.140687   2.169900   67.023549      145.434365\n",
              "1         1  2607.067429   1.506500   31.266133       47.102438\n",
              "2         2  1033.536364   2.927273  529.979909     1551.395733\n",
              "3         3   304.247140   9.233867   52.457730      484.387712\n",
              "4         4   693.544352   2.020094   24.040268       48.563604"
            ]
          },
          "metadata": {
            "tags": []
          },
          "execution_count": 515
        }
      ]
    },
    {
      "cell_type": "code",
      "metadata": {
        "id": "3euEXaWCrl6u",
        "colab_type": "code",
        "colab": {},
        "outputId": "de8c4010-f25d-4d60-a6ac-38cec8727cd7"
      },
      "source": [
        "print(cluster , '\\n')\n",
        "print(\"---------------------------------------------------------------\", '\\n')\n",
        "print(cluster_5)"
      ],
      "execution_count": null,
      "outputs": [
        {
          "output_type": "stream",
          "text": [
            "   clusters      recency  frequency    monetary  total_monetary\n",
            "0         0  2524.746744   1.638495   48.220271       79.008670\n",
            "1         1   562.937819   2.182722   68.315371      149.113443\n",
            "2         2   309.496096   9.242536   52.297284      483.359506\n",
            "3         3   671.983422   2.045496   24.640859       50.402789\n",
            "4         4   798.366483   3.119705  610.422630     1904.338738\n",
            "5         5  2557.890966   1.418138   17.520580       24.846596 \n",
            "\n",
            "--------------------------------------------------------------- \n",
            "\n",
            "   clusters      recency  frequency    monetary  total_monetary\n",
            "0         0   668.140687   2.169900   67.023549      145.434365\n",
            "1         1  2607.067429   1.506500   31.266133       47.102438\n",
            "2         2  1033.536364   2.927273  529.979909     1551.395733\n",
            "3         3   304.247140   9.233867   52.457730      484.387712\n",
            "4         4   693.544352   2.020094   24.040268       48.563604\n"
          ],
          "name": "stdout"
        }
      ]
    },
    {
      "cell_type": "code",
      "metadata": {
        "id": "Y2yYGSFMrl6x",
        "colab_type": "code",
        "colab": {},
        "outputId": "6fa0a94e-d79d-4eb5-e23d-651923faa7b7"
      },
      "source": [
        "print(pd.crosstab(kmeans.labels_, kmeans.labels_) , '\\n')\n",
        "print(\"---------------------------------------------------------------\", '\\n')\n",
        "print(pd.crosstab(kmeans_5.labels_, kmeans_5.labels_))"
      ],
      "execution_count": null,
      "outputs": [
        {
          "output_type": "stream",
          "text": [
            "col_0     0     1     2     3    4     5\n",
            "row_0                                   \n",
            "0      3455     0     0     0    0     0\n",
            "1         0  3924     0     0    0     0\n",
            "2         0     0  2177     0    0     0\n",
            "3         0     0     0  5429    0     0\n",
            "4         0     0     0     0  543     0\n",
            "5         0     0     0     0    0  2889 \n",
            "\n",
            "--------------------------------------------------------------- \n",
            "\n",
            "col_0     0     1    2     3     4\n",
            "row_0                             \n",
            "0      4279     0    0     0     0\n",
            "1         0  5769    0     0     0\n",
            "2         0     0  660     0     0\n",
            "3         0     0    0  2185     0\n",
            "4         0     0    0     0  5524\n"
          ],
          "name": "stdout"
        }
      ]
    },
    {
      "cell_type": "code",
      "metadata": {
        "id": "8xrTiQfwrl6z",
        "colab_type": "code",
        "colab": {},
        "outputId": "70071260-5e8c-4fe2-f3bf-19aefca85cf6"
      },
      "source": [
        "plt.figure(figsize=(10,4))\n",
        "plt.subplot(1,2,1)\n",
        "sns.barplot(x='clusters', y ='total_monetary', data=cluster_5)\n",
        "\n",
        "plt.subplot(1,2,2)\n",
        "sns.barplot(x='clusters', y ='total_monetary', data=cluster)"
      ],
      "execution_count": null,
      "outputs": [
        {
          "output_type": "execute_result",
          "data": {
            "text/plain": [
              "<matplotlib.axes._subplots.AxesSubplot at 0x2aab5530e08>"
            ]
          },
          "metadata": {
            "tags": []
          },
          "execution_count": 530
        },
        {
          "output_type": "display_data",
          "data": {
            "image/png": "[encoded data removed]",
            "text/plain": [
              "<Figure size 720x288 with 2 Axes>"
            ]
          },
          "metadata": {
            "tags": []
          }
        }
      ]
    },
    {
      "cell_type": "code",
      "metadata": {
        "id": "Jb9aJb_Grl62",
        "colab_type": "code",
        "colab": {},
        "outputId": "e80de049-a54f-4394-b272-0f9ef35aab6f"
      },
      "source": [
        "plt.figure(figsize=(10,4))\n",
        "plt.subplot(1,2,1)\n",
        "sns.barplot(x='clusters', y ='frequency', data=cluster_5)\n",
        "\n",
        "plt.subplot(1,2,2)\n",
        "sns.barplot(x='clusters', y ='frequency', data=cluster)"
      ],
      "execution_count": null,
      "outputs": [
        {
          "output_type": "execute_result",
          "data": {
            "text/plain": [
              "<matplotlib.axes._subplots.AxesSubplot at 0x2aab56c2b88>"
            ]
          },
          "metadata": {
            "tags": []
          },
          "execution_count": 532
        },
        {
          "output_type": "display_data",
          "data": {
            "image/png": "[encoded data removed]",
            "text/plain": [
              "<Figure size 720x288 with 2 Axes>"
            ]
          },
          "metadata": {
            "tags": []
          }
        }
      ]
    },
    {
      "cell_type": "code",
      "metadata": {
        "scrolled": true,
        "id": "XmojLl0Yrl64",
        "colab_type": "code",
        "colab": {},
        "outputId": "b5a6f44d-b84e-4438-e10b-f9eada7f0a3a"
      },
      "source": [
        "plt.figure(figsize=(10,4))\n",
        "plt.subplot(1,2,1)\n",
        "sns.barplot(x='clusters', y ='recency', data=cluster_5)\n",
        "\n",
        "plt.subplot(1,2,2)\n",
        "sns.barplot(x='clusters', y ='recency', data=cluster)"
      ],
      "execution_count": null,
      "outputs": [
        {
          "output_type": "execute_result",
          "data": {
            "text/plain": [
              "<matplotlib.axes._subplots.AxesSubplot at 0x2aab57af808>"
            ]
          },
          "metadata": {
            "tags": []
          },
          "execution_count": 533
        },
        {
          "output_type": "display_data",
          "data": {
            "image/png": "[encoded data removed]",
            "text/plain": [
              "<Figure size 720x288 with 2 Axes>"
            ]
          },
          "metadata": {
            "tags": []
          }
        }
      ]
    },
    {
      "cell_type": "code",
      "metadata": {
        "id": "AsJPVZ1grl66",
        "colab_type": "code",
        "colab": {},
        "outputId": "b56638fc-71f6-4341-c560-f46258fe532a"
      },
      "source": [
        "customer"
      ],
      "execution_count": null,
      "outputs": [
        {
          "output_type": "execute_result",
          "data": {
            "text/html": [
              "<div>\n",
              "<style scoped>\n",
              "    .dataframe tbody tr th:only-of-type {\n",
              "        vertical-align: middle;\n",
              "    }\n",
              "\n",
              "    .dataframe tbody tr th {\n",
              "        vertical-align: top;\n",
              "    }\n",
              "\n",
              "    .dataframe thead th {\n",
              "        text-align: right;\n",
              "    }\n",
              "</style>\n",
              "<table border=\"1\" class=\"dataframe\">\n",
              "  <thead>\n",
              "    <tr style=\"text-align: right;\">\n",
              "      <th></th>\n",
              "      <th>recency</th>\n",
              "      <th>frequency</th>\n",
              "      <th>monetary</th>\n",
              "      <th>clusters</th>\n",
              "    </tr>\n",
              "  </thead>\n",
              "  <tbody>\n",
              "    <tr>\n",
              "      <td>0</td>\n",
              "      <td>3829.0</td>\n",
              "      <td>1</td>\n",
              "      <td>30.000000</td>\n",
              "      <td>0</td>\n",
              "    </tr>\n",
              "    <tr>\n",
              "      <td>1</td>\n",
              "      <td>343.0</td>\n",
              "      <td>7</td>\n",
              "      <td>71.428571</td>\n",
              "      <td>2</td>\n",
              "    </tr>\n",
              "    <tr>\n",
              "      <td>2</td>\n",
              "      <td>758.0</td>\n",
              "      <td>10</td>\n",
              "      <td>115.800000</td>\n",
              "      <td>2</td>\n",
              "    </tr>\n",
              "    <tr>\n",
              "      <td>3</td>\n",
              "      <td>1401.0</td>\n",
              "      <td>1</td>\n",
              "      <td>20.000000</td>\n",
              "      <td>3</td>\n",
              "    </tr>\n",
              "    <tr>\n",
              "      <td>4</td>\n",
              "      <td>2970.0</td>\n",
              "      <td>2</td>\n",
              "      <td>50.000000</td>\n",
              "      <td>0</td>\n",
              "    </tr>\n",
              "    <tr>\n",
              "      <td>...</td>\n",
              "      <td>...</td>\n",
              "      <td>...</td>\n",
              "      <td>...</td>\n",
              "      <td>...</td>\n",
              "    </tr>\n",
              "    <tr>\n",
              "      <td>18412</td>\n",
              "      <td>1.0</td>\n",
              "      <td>1</td>\n",
              "      <td>10.000000</td>\n",
              "      <td>3</td>\n",
              "    </tr>\n",
              "    <tr>\n",
              "      <td>18413</td>\n",
              "      <td>135.0</td>\n",
              "      <td>1</td>\n",
              "      <td>50.000000</td>\n",
              "      <td>1</td>\n",
              "    </tr>\n",
              "    <tr>\n",
              "      <td>18414</td>\n",
              "      <td>34.0</td>\n",
              "      <td>1</td>\n",
              "      <td>20.000000</td>\n",
              "      <td>3</td>\n",
              "    </tr>\n",
              "    <tr>\n",
              "      <td>18415</td>\n",
              "      <td>5.0</td>\n",
              "      <td>1</td>\n",
              "      <td>54.000000</td>\n",
              "      <td>1</td>\n",
              "    </tr>\n",
              "    <tr>\n",
              "      <td>18416</td>\n",
              "      <td>1.0</td>\n",
              "      <td>1</td>\n",
              "      <td>500.000000</td>\n",
              "      <td>4</td>\n",
              "    </tr>\n",
              "  </tbody>\n",
              "</table>\n",
              "<p>18417 rows × 4 columns</p>\n",
              "</div>"
            ],
            "text/plain": [
              "       recency  frequency    monetary  clusters\n",
              "0       3829.0          1   30.000000         0\n",
              "1        343.0          7   71.428571         2\n",
              "2        758.0         10  115.800000         2\n",
              "3       1401.0          1   20.000000         3\n",
              "4       2970.0          2   50.000000         0\n",
              "...        ...        ...         ...       ...\n",
              "18412      1.0          1   10.000000         3\n",
              "18413    135.0          1   50.000000         1\n",
              "18414     34.0          1   20.000000         3\n",
              "18415      5.0          1   54.000000         1\n",
              "18416      1.0          1  500.000000         4\n",
              "\n",
              "[18417 rows x 4 columns]"
            ]
          },
          "metadata": {
            "tags": []
          },
          "execution_count": 536
        }
      ]
    },
    {
      "cell_type": "code",
      "metadata": {
        "id": "OxAp8HxKrl69",
        "colab_type": "code",
        "colab": {}
      },
      "source": [
        "cluster_4= customer[customer['clusters']==4]"
      ],
      "execution_count": null,
      "outputs": []
    },
    {
      "cell_type": "code",
      "metadata": {
        "id": "rbr74OhIrl7B",
        "colab_type": "code",
        "colab": {},
        "outputId": "8e2e81a1-1add-4b85-83dc-0f08aea30cf0"
      },
      "source": [
        "sns.distplot(cluster_4['monetary'])"
      ],
      "execution_count": null,
      "outputs": [
        {
          "output_type": "execute_result",
          "data": {
            "text/plain": [
              "<matplotlib.axes._subplots.AxesSubplot at 0x2aab5895788>"
            ]
          },
          "metadata": {
            "tags": []
          },
          "execution_count": 538
        },
        {
          "output_type": "display_data",
          "data": {
            "image/png": "[encoded data removed]",
            "text/plain": [
              "<Figure size 432x288 with 1 Axes>"
            ]
          },
          "metadata": {
            "tags": []
          }
        }
      ]
    },
    {
      "cell_type": "code",
      "metadata": {
        "id": "LwmUZICXrl7F",
        "colab_type": "code",
        "colab": {},
        "outputId": "38cdbe9c-2a58-4e4f-db84-a2aa56e3c869"
      },
      "source": [
        "sns.boxplot(cluster_4['monetary'])"
      ],
      "execution_count": null,
      "outputs": [
        {
          "output_type": "execute_result",
          "data": {
            "text/plain": [
              "<matplotlib.axes._subplots.AxesSubplot at 0x2aab5e13f08>"
            ]
          },
          "metadata": {
            "tags": []
          },
          "execution_count": 540
        },
        {
          "output_type": "display_data",
          "data": {
            "image/png": "[encoded data removed]",
            "text/plain": [
              "<Figure size 432x288 with 1 Axes>"
            ]
          },
          "metadata": {
            "tags": []
          }
        }
      ]
    },
    {
      "cell_type": "code",
      "metadata": {
        "id": "HomEunLQrl7H",
        "colab_type": "code",
        "colab": {},
        "outputId": "7cd90176-a3c1-409e-acba-039063d5582b"
      },
      "source": [
        "pd.DataFrame(cluster_4.monetary.sort_values())"
      ],
      "execution_count": null,
      "outputs": [
        {
          "output_type": "execute_result",
          "data": {
            "text/html": [
              "<div>\n",
              "<style scoped>\n",
              "    .dataframe tbody tr th:only-of-type {\n",
              "        vertical-align: middle;\n",
              "    }\n",
              "\n",
              "    .dataframe tbody tr th {\n",
              "        vertical-align: top;\n",
              "    }\n",
              "\n",
              "    .dataframe thead th {\n",
              "        text-align: right;\n",
              "    }\n",
              "</style>\n",
              "<table border=\"1\" class=\"dataframe\">\n",
              "  <thead>\n",
              "    <tr style=\"text-align: right;\">\n",
              "      <th></th>\n",
              "      <th>monetary</th>\n",
              "    </tr>\n",
              "  </thead>\n",
              "  <tbody>\n",
              "    <tr>\n",
              "      <td>202</td>\n",
              "      <td>142.857143</td>\n",
              "    </tr>\n",
              "    <tr>\n",
              "      <td>7171</td>\n",
              "      <td>150.000000</td>\n",
              "    </tr>\n",
              "    <tr>\n",
              "      <td>1266</td>\n",
              "      <td>150.000000</td>\n",
              "    </tr>\n",
              "    <tr>\n",
              "      <td>720</td>\n",
              "      <td>150.000000</td>\n",
              "    </tr>\n",
              "    <tr>\n",
              "      <td>471</td>\n",
              "      <td>151.714286</td>\n",
              "    </tr>\n",
              "    <tr>\n",
              "      <td>...</td>\n",
              "      <td>...</td>\n",
              "    </tr>\n",
              "    <tr>\n",
              "      <td>15591</td>\n",
              "      <td>4000.000000</td>\n",
              "    </tr>\n",
              "    <tr>\n",
              "      <td>6041</td>\n",
              "      <td>4000.000000</td>\n",
              "    </tr>\n",
              "    <tr>\n",
              "      <td>17165</td>\n",
              "      <td>4000.000000</td>\n",
              "    </tr>\n",
              "    <tr>\n",
              "      <td>16044</td>\n",
              "      <td>4500.000000</td>\n",
              "    </tr>\n",
              "    <tr>\n",
              "      <td>17092</td>\n",
              "      <td>4500.000000</td>\n",
              "    </tr>\n",
              "  </tbody>\n",
              "</table>\n",
              "<p>543 rows × 1 columns</p>\n",
              "</div>"
            ],
            "text/plain": [
              "          monetary\n",
              "202     142.857143\n",
              "7171    150.000000\n",
              "1266    150.000000\n",
              "720     150.000000\n",
              "471     151.714286\n",
              "...            ...\n",
              "15591  4000.000000\n",
              "6041   4000.000000\n",
              "17165  4000.000000\n",
              "16044  4500.000000\n",
              "17092  4500.000000\n",
              "\n",
              "[543 rows x 1 columns]"
            ]
          },
          "metadata": {
            "tags": []
          },
          "execution_count": 542
        }
      ]
    },
    {
      "cell_type": "code",
      "metadata": {
        "id": "Gb4GavbMrl7K",
        "colab_type": "code",
        "colab": {},
        "outputId": "78a8fef4-ac06-495b-e55d-1538c137542c"
      },
      "source": [
        "cluster_4.monetary.describe()"
      ],
      "execution_count": null,
      "outputs": [
        {
          "output_type": "execute_result",
          "data": {
            "text/plain": [
              "count     543.000000\n",
              "mean      610.422630\n",
              "std       681.011382\n",
              "min       142.857143\n",
              "25%       200.000000\n",
              "50%       340.000000\n",
              "75%       740.000000\n",
              "max      4500.000000\n",
              "Name: monetary, dtype: float64"
            ]
          },
          "metadata": {
            "tags": []
          },
          "execution_count": 543
        }
      ]
    },
    {
      "cell_type": "code",
      "metadata": {
        "id": "RWw6upetrl7M",
        "colab_type": "code",
        "colab": {}
      },
      "source": [
        "cluster_2= customer[customer['clusters']==2]"
      ],
      "execution_count": null,
      "outputs": []
    },
    {
      "cell_type": "code",
      "metadata": {
        "id": "ohY5Qns-rl7Q",
        "colab_type": "code",
        "colab": {},
        "outputId": "b84a9514-5578-4f06-c5aa-11b5cb77ae5f"
      },
      "source": [
        "cluster_2.monetary.describe()"
      ],
      "execution_count": null,
      "outputs": [
        {
          "output_type": "execute_result",
          "data": {
            "text/plain": [
              "count    2177.000000\n",
              "mean       52.297284\n",
              "std        43.610842\n",
              "min         6.750000\n",
              "25%        29.375000\n",
              "50%        40.000000\n",
              "75%        60.000000\n",
              "max       944.444444\n",
              "Name: monetary, dtype: float64"
            ]
          },
          "metadata": {
            "tags": []
          },
          "execution_count": 545
        }
      ]
    },
    {
      "cell_type": "code",
      "metadata": {
        "id": "iPNY5YHnrl7U",
        "colab_type": "code",
        "colab": {}
      },
      "source": [
        "cluster_3= customer[customer['clusters']==3]"
      ],
      "execution_count": null,
      "outputs": []
    },
    {
      "cell_type": "code",
      "metadata": {
        "id": "ajTvWtUbrl7X",
        "colab_type": "code",
        "colab": {},
        "outputId": "79554d85-64cf-472b-c629-f999b39f1daa"
      },
      "source": [
        "cluster_3.monetary.describe()"
      ],
      "execution_count": null,
      "outputs": [
        {
          "output_type": "execute_result",
          "data": {
            "text/plain": [
              "count    5429.000000\n",
              "mean       24.640859\n",
              "std         7.490477\n",
              "min         5.000000\n",
              "25%        20.000000\n",
              "50%        28.000000\n",
              "75%        30.000000\n",
              "max        40.000000\n",
              "Name: monetary, dtype: float64"
            ]
          },
          "metadata": {
            "tags": []
          },
          "execution_count": 547
        }
      ]
    },
    {
      "cell_type": "code",
      "metadata": {
        "id": "pUJsZO66rl7b",
        "colab_type": "code",
        "colab": {},
        "outputId": "d6a4a01d-6cb0-4dac-9a92-a3dc37f43198"
      },
      "source": [
        "cluster_4[cluster_4['monetary']<200].count()"
      ],
      "execution_count": null,
      "outputs": [
        {
          "output_type": "execute_result",
          "data": {
            "text/plain": [
              "recency      148\n",
              "frequency    148\n",
              "monetary     148\n",
              "clusters     148\n",
              "dtype: int64"
            ]
          },
          "metadata": {
            "tags": []
          },
          "execution_count": 550
        }
      ]
    },
    {
      "cell_type": "code",
      "metadata": {
        "id": "wVECaLAurl7d",
        "colab_type": "code",
        "colab": {},
        "outputId": "8e9560ae-da65-442a-a5a3-b67159feca3e"
      },
      "source": [
        "cluster_4[cluster_4['monetary']>900].count()"
      ],
      "execution_count": null,
      "outputs": [
        {
          "output_type": "execute_result",
          "data": {
            "text/plain": [
              "recency      120\n",
              "frequency    120\n",
              "monetary     120\n",
              "clusters     120\n",
              "dtype: int64"
            ]
          },
          "metadata": {
            "tags": []
          },
          "execution_count": 552
        }
      ]
    },
    {
      "cell_type": "markdown",
      "metadata": {
        "id": "n-u6GTz5rl7h",
        "colab_type": "text"
      },
      "source": [
        "### we are selecting cluster_2 because of its high frequency value, good recency and overall good monetary average. \n",
        "\n",
        "### Maximum monetary value for cluster_2 is 944 whereas in case of cluster_4 the monetary value above 900 is 120(count).\n",
        "\n",
        "### The monetary value of cluster 3 is very less, Max(40). with an customer segment around 5429. moreover on selecting the customer might result in less or no profit/gain (taking marketing cost into account)\n",
        "\n",
        "## So we have selected cluster 2 and cluster 4 "
      ]
    },
    {
      "cell_type": "code",
      "metadata": {
        "id": "EzGKlFC-rl7i",
        "colab_type": "code",
        "colab": {}
      },
      "source": [
        ""
      ],
      "execution_count": null,
      "outputs": []
    }
  ]
}